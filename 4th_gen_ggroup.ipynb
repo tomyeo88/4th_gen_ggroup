{
 "cells": [
  {
   "cell_type": "markdown",
   "metadata": {},
   "source": [
    "## In this project, I will collect and visualize the video data of five major 4th generation kpop girl group YouTube channels.\n",
    "\n",
    "# 1. Introduction\n",
    "## 1.1 Background\n",
    "Currently, the 4th generation kpop girl group is dominating the kpop scene in Korea, and globally. Gaining the momentum from Blackpink, now girl groups are more successful than boy groups in gaining mass popularity. I was curious how the most popular 4th gen girl groups (Newjeans, Aespa, Ive, Lesserafim, Nmixx) are creating contents for thier YouTube channels. Ever since BTS, YouTube channel contents became a critical part in creating a bond with fandom. It is one of the most important barometer for the fandom's power of the group.\n",
    "\n",
    "I want to monitor the performance of each group's content by collecting the video metric data for each channel, and creating a Tableau dashboard. The scope of the project will be limited to the 5 major 4th gen girl group channels. \n",
    "\n",
    "## 1.2 Objectives\n",
    "In this project, I will focus on learning the followings:\n",
    "\n",
    "- Utilize private YouTube crawling package I developed to gather YouTube channel data\n",
    "- Gather video data automatically using jupyter lab scheduler\n",
    "- Store the data in google sheets using pygsheets libary\n",
    "- Visualize the video data for these five channels via Tableau to answer these questions:\n",
    "    - Which channel is performing the best at the moment?\n",
    "    - What type of content gets the most views?\n",
    "    - What type of content has the most engagement among the fans?\n",
    "    - What are some contents that didn't perform well?\n",
    "\n",
    "## 1.3 Project process\n",
    "1. Get the channel video data, and comments data from girl group channels using private YouTube crawling package.\n",
    "2. Preprocess data and engineer new features\n",
    "3. Create a Tableau dashboard using google sheets as DB\n",
    "4. Conclusions\n",
    "\n",
    "## 1.4 Dataset\n",
    "### Data Source\n",
    "For this project, I obtained the dataset myself by utilizing private YouTube public crawler package.\n",
    "\n",
    "### Data Limitation\n",
    "The data is a real-world dataset, suitable for research purposes. However, some videos can have incorrect video length values because of the YouTube display ads that interferes with the crawler. \n",
    "\n",
    "Also, I did not collect comments, since the data is too large to store in google sheets, and takes a long time to collect with the crawler package that I am using."
   ]
  },
  {
   "cell_type": "markdown",
   "metadata": {},
   "source": [
    "### Import Libraries"
   ]
  },
  {
   "cell_type": "code",
   "execution_count": 21,
   "metadata": {},
   "outputs": [],
   "source": [
    "import os\n",
    "import sys\n",
    "sys.path.insert(0, '/Users/minguyeo/Documents/coding/portfolio/')\n",
    "\n",
    "from YTcrawling.package.YT_crawler_v1 import *\n",
    "import pandas as pd\n",
    "import numpy as np\n",
    "import matplotlib.pyplot as plt\n",
    "\n",
    "# Read & Save Google Sheet \n",
    "import pygsheets\n",
    "from google.oauth2 import service_account\n",
    "from matplotlib import font_manager, rc\n",
    "import platform\n",
    "\n",
    "if platform.system() == 'Windows':\n",
    "# Window\n",
    "    font_name = font_manager.FontProperties(fname=\"c:/Windows/Fonts/malgun.ttf\").get_name()\n",
    "    rc('font', family=font_name)\n",
    "else:    \n",
    "# Mac\n",
    "    rc('font', family='AppleGothic')\n",
    "    \n",
    "plt.rcParams['axes.unicode_minus'] = False   \n",
    "\n",
    "from dotenv import load_dotenv\n",
    "\n",
    "# Load environment variables from .env file\n",
    "load_dotenv()\n",
    "\n",
    "# Access the environment variables\n",
    "google_sheets_creds = os.getenv('GOOGLE_SHEETS_CREDS')\n",
    "\n",
    "# Use the environment variable\n",
    "if google_sheets_creds:\n",
    "    gc = pygsheets.authorize(service_account_file=google_sheets_creds)\n",
    "else:\n",
    "    print(\"Environment variable GOOGLE_SHEETS_CREDS is not set.\")"
   ]
  },
  {
   "cell_type": "markdown",
   "metadata": {},
   "source": [
    "## 1. Collect channel data using private crawler"
   ]
  },
  {
   "cell_type": "markdown",
   "metadata": {},
   "source": [
    "### List of 5 major 4th gen girl groups channel id"
   ]
  },
  {
   "cell_type": "code",
   "execution_count": 22,
   "metadata": {},
   "outputs": [],
   "source": [
    "### YouTube Channel Id of five major 4th gen girl groups (NEWJEANS, AESPA, IVE, LESSERAFIM, NMIXX)\n",
    "cr_dic = {'UCMki_UkHb4qSc0qyEcOHHJw': 'NEWJEANS',\n",
    "          'UC9GtSLeksfK4yuJ_g1lgQbg': 'AESPA',\n",
    "          'UC-Fnix71vRP64WXeo0ikd0Q': 'IVE',\n",
    "          'UCs-QBT4qkj_YiQw1ZntDO3g': 'LESSERAFIM',\n",
    "          'UCnUAyD4t2LkvW68YrDh7fDg': 'NMIXX'}\n",
    "\n",
    "channel_id = list(cr_dic.keys())"
   ]
  },
  {
   "cell_type": "markdown",
   "metadata": {},
   "source": [
    "### Read in the google sheet for video data of the 5 channels"
   ]
  },
  {
   "cell_type": "code",
   "execution_count": 125,
   "metadata": {},
   "outputs": [],
   "source": [
    "spreadsheet_url = \"https://docs.google.com/spreadsheets/d/1XPgKbblXTnwPJ5FNW4adxnGmrhMJllveFe4EfqWOc48/edit#gid=2084333239\"\n",
    "sid = spreadsheet_url.split(\"/d/\")[1].split(\"/edit\")[0]\n",
    "sh = gc.open_by_key(sid)\n",
    "wks_vid_metric = sh.worksheet_by_title('video_metric')\n",
    "wks_vid_list = sh.worksheet_by_title('video_list')"
   ]
  },
  {
   "cell_type": "code",
   "execution_count": 126,
   "metadata": {},
   "outputs": [
    {
     "name": "stdout",
     "output_type": "stream",
     "text": [
      "(row, col):  (126, 12)\n"
     ]
    },
    {
     "data": {
      "text/html": [
       "<div>\n",
       "<style scoped>\n",
       "    .dataframe tbody tr th:only-of-type {\n",
       "        vertical-align: middle;\n",
       "    }\n",
       "\n",
       "    .dataframe tbody tr th {\n",
       "        vertical-align: top;\n",
       "    }\n",
       "\n",
       "    .dataframe thead th {\n",
       "        text-align: right;\n",
       "    }\n",
       "</style>\n",
       "<table border=\"1\" class=\"dataframe\">\n",
       "  <thead>\n",
       "    <tr style=\"text-align: right;\">\n",
       "      <th></th>\n",
       "      <th>video_id</th>\n",
       "      <th>cr</th>\n",
       "      <th>subscriber</th>\n",
       "      <th>channel_id</th>\n",
       "      <th>video_url</th>\n",
       "      <th>title</th>\n",
       "      <th>upload_date</th>\n",
       "      <th>view</th>\n",
       "      <th>comment</th>\n",
       "      <th>like</th>\n",
       "      <th>video_length</th>\n",
       "      <th>video_format</th>\n",
       "    </tr>\n",
       "  </thead>\n",
       "  <tbody>\n",
       "    <tr>\n",
       "      <th>0</th>\n",
       "      <td>NB44sWLhAAQ</td>\n",
       "      <td>NEWJEANS</td>\n",
       "      <td>6,230,000</td>\n",
       "      <td>UCMki_UkHb4qSc0qyEcOHHJw</td>\n",
       "      <td>https://youtu.be/NB44sWLhAAQ</td>\n",
       "      <td>[About Jeans] 오늘을, 기록혠 2 ⊹ 시골에 간 혠스터의 오늘 | HYE...</td>\n",
       "      <td>2023. 12. 8</td>\n",
       "      <td>340,295</td>\n",
       "      <td>1,500</td>\n",
       "      <td>25,294</td>\n",
       "      <td>1161</td>\n",
       "      <td>NaN</td>\n",
       "    </tr>\n",
       "    <tr>\n",
       "      <th>1</th>\n",
       "      <td>uB3al5c0gJ4</td>\n",
       "      <td>NEWJEANS</td>\n",
       "      <td>6,230,000</td>\n",
       "      <td>UCMki_UkHb4qSc0qyEcOHHJw</td>\n",
       "      <td>https://youtu.be/uB3al5c0gJ4</td>\n",
       "      <td>[Light Jeans] 2023 Japan Music Show Behind | N...</td>\n",
       "      <td>2023. 12. 7</td>\n",
       "      <td>230,081</td>\n",
       "      <td>766</td>\n",
       "      <td>17,462</td>\n",
       "      <td>803</td>\n",
       "      <td>NaN</td>\n",
       "    </tr>\n",
       "    <tr>\n",
       "      <th>2</th>\n",
       "      <td>RdHR1cZZUR0</td>\n",
       "      <td>NEWJEANS</td>\n",
       "      <td>6,230,000</td>\n",
       "      <td>UCMki_UkHb4qSc0qyEcOHHJw</td>\n",
       "      <td>https://youtu.be/RdHR1cZZUR0</td>\n",
       "      <td>[By Jeans] 'Sarah Kang - once in a moon' Cover...</td>\n",
       "      <td>2023. 12. 5</td>\n",
       "      <td>882,501</td>\n",
       "      <td>5,200</td>\n",
       "      <td>89,583</td>\n",
       "      <td>409</td>\n",
       "      <td>NaN</td>\n",
       "    </tr>\n",
       "  </tbody>\n",
       "</table>\n",
       "</div>"
      ],
      "text/plain": [
       "      video_id        cr subscriber                channel_id   \n",
       "0  NB44sWLhAAQ  NEWJEANS  6,230,000  UCMki_UkHb4qSc0qyEcOHHJw  \\\n",
       "1  uB3al5c0gJ4  NEWJEANS  6,230,000  UCMki_UkHb4qSc0qyEcOHHJw   \n",
       "2  RdHR1cZZUR0  NEWJEANS  6,230,000  UCMki_UkHb4qSc0qyEcOHHJw   \n",
       "\n",
       "                      video_url   \n",
       "0  https://youtu.be/NB44sWLhAAQ  \\\n",
       "1  https://youtu.be/uB3al5c0gJ4   \n",
       "2  https://youtu.be/RdHR1cZZUR0   \n",
       "\n",
       "                                               title  upload_date     view   \n",
       "0  [About Jeans] 오늘을, 기록혠 2 ⊹ 시골에 간 혠스터의 오늘 | HYE...  2023. 12. 8  340,295  \\\n",
       "1  [Light Jeans] 2023 Japan Music Show Behind | N...  2023. 12. 7  230,081   \n",
       "2  [By Jeans] 'Sarah Kang - once in a moon' Cover...  2023. 12. 5  882,501   \n",
       "\n",
       "  comment    like  video_length  video_format  \n",
       "0   1,500  25,294          1161           NaN  \n",
       "1     766  17,462           803           NaN  \n",
       "2   5,200  89,583           409           NaN  "
      ]
     },
     "execution_count": 126,
     "metadata": {},
     "output_type": "execute_result"
    }
   ],
   "source": [
    "# Get video_metric Sheet\n",
    "vid_metric_df = wks_vid_metric.get_as_df(has_header=True , index_column=None , start='A1', end='AE1000000' , numerize=True , empty_value=np.nan)\n",
    "\n",
    "print('(row, col): ', vid_metric_df.shape)\n",
    "vid_metric_df.head(3)"
   ]
  },
  {
   "cell_type": "code",
   "execution_count": 94,
   "metadata": {},
   "outputs": [
    {
     "name": "stdout",
     "output_type": "stream",
     "text": [
      "(row, col):  (143, 4)\n"
     ]
    },
    {
     "data": {
      "text/html": [
       "<div>\n",
       "<style scoped>\n",
       "    .dataframe tbody tr th:only-of-type {\n",
       "        vertical-align: middle;\n",
       "    }\n",
       "\n",
       "    .dataframe tbody tr th {\n",
       "        vertical-align: top;\n",
       "    }\n",
       "\n",
       "    .dataframe thead th {\n",
       "        text-align: right;\n",
       "    }\n",
       "</style>\n",
       "<table border=\"1\" class=\"dataframe\">\n",
       "  <thead>\n",
       "    <tr style=\"text-align: right;\">\n",
       "      <th></th>\n",
       "      <th>channel_id</th>\n",
       "      <th>video_url</th>\n",
       "      <th>is_ad</th>\n",
       "      <th>video_format</th>\n",
       "    </tr>\n",
       "  </thead>\n",
       "  <tbody>\n",
       "    <tr>\n",
       "      <th>0</th>\n",
       "      <td>UCMki_UkHb4qSc0qyEcOHHJw</td>\n",
       "      <td>https://youtu.be/NB44sWLhAAQ</td>\n",
       "      <td>F</td>\n",
       "      <td>VOD</td>\n",
       "    </tr>\n",
       "    <tr>\n",
       "      <th>1</th>\n",
       "      <td>UCMki_UkHb4qSc0qyEcOHHJw</td>\n",
       "      <td>https://youtu.be/uB3al5c0gJ4</td>\n",
       "      <td>F</td>\n",
       "      <td>VOD</td>\n",
       "    </tr>\n",
       "    <tr>\n",
       "      <th>2</th>\n",
       "      <td>UCMki_UkHb4qSc0qyEcOHHJw</td>\n",
       "      <td>https://youtu.be/RdHR1cZZUR0</td>\n",
       "      <td>F</td>\n",
       "      <td>VOD</td>\n",
       "    </tr>\n",
       "  </tbody>\n",
       "</table>\n",
       "</div>"
      ],
      "text/plain": [
       "                 channel_id                     video_url is_ad video_format\n",
       "0  UCMki_UkHb4qSc0qyEcOHHJw  https://youtu.be/NB44sWLhAAQ     F          VOD\n",
       "1  UCMki_UkHb4qSc0qyEcOHHJw  https://youtu.be/uB3al5c0gJ4     F          VOD\n",
       "2  UCMki_UkHb4qSc0qyEcOHHJw  https://youtu.be/RdHR1cZZUR0     F          VOD"
      ]
     },
     "execution_count": 94,
     "metadata": {},
     "output_type": "execute_result"
    }
   ],
   "source": [
    "# Get ad_check Sheet\n",
    "vid_list_df = wks_vid_list.get_as_df(has_header=True , index_column=None , start='A1', end='AE1000000' , numerize=True , empty_value=np.nan)\n",
    "\n",
    "print('(row, col): ', vid_list_df.shape)\n",
    "vid_list_df.head(3)"
   ]
  },
  {
   "cell_type": "markdown",
   "metadata": {},
   "source": [
    "### Load YouTube Crawler Class & get video stats"
   ]
  },
  {
   "cell_type": "code",
   "execution_count": 140,
   "metadata": {},
   "outputs": [],
   "source": [
    "crawler = YoutubeCrawler()"
   ]
  },
  {
   "cell_type": "code",
   "execution_count": 27,
   "metadata": {},
   "outputs": [
    {
     "name": "stderr",
     "output_type": "stream",
     "text": [
      "  0%|          | 0/5 [00:00<?, ?it/s]"
     ]
    },
    {
     "name": "stdout",
     "output_type": "stream",
     "text": [
      "0 https://www.youtube.com/channel/UCMki_UkHb4qSc0qyEcOHHJw/videos\n"
     ]
    },
    {
     "name": "stderr",
     "output_type": "stream",
     "text": [
      " 20%|██        | 1/5 [00:09<00:36,  9.06s/it]"
     ]
    },
    {
     "name": "stdout",
     "output_type": "stream",
     "text": [
      "4일 전 https://youtu.be/NB44sWLhAAQ\n",
      "5일 전 https://youtu.be/uB3al5c0gJ4\n",
      "7일 전 https://youtu.be/RdHR1cZZUR0\n",
      "1 https://www.youtube.com/channel/UC9GtSLeksfK4yuJ_g1lgQbg/videos\n"
     ]
    },
    {
     "name": "stderr",
     "output_type": "stream",
     "text": [
      " 40%|████      | 2/5 [00:15<00:23,  7.70s/it]"
     ]
    },
    {
     "name": "stdout",
     "output_type": "stream",
     "text": [
      "1일 전 https://youtu.be/5rGgmvZIfus\n",
      "2일 전 https://youtu.be/9Wmcywak2vQ\n",
      "3일 전 https://youtu.be/2sVHcrZMYWo\n",
      "5일 전 https://youtu.be/Yy3BCQCeBMg\n",
      "6일 전 https://youtu.be/9J1lOMDYW14\n",
      "7일 전 https://youtu.be/1ddlidZjBWg\n",
      "9일 전 https://youtu.be/gvjzw8IABjU\n",
      "2 https://www.youtube.com/channel/UC-Fnix71vRP64WXeo0ikd0Q/videos\n"
     ]
    },
    {
     "name": "stderr",
     "output_type": "stream",
     "text": [
      " 60%|██████    | 3/5 [00:20<00:13,  6.54s/it]"
     ]
    },
    {
     "name": "stdout",
     "output_type": "stream",
     "text": [
      "1일 전 https://youtu.be/-MtfHxitugU\n",
      "4일 전 https://youtu.be/IALcGjfZPF4\n",
      "6일 전 https://youtu.be/Evz7xIaAKJQ\n",
      "10일 전 https://youtu.be/l5LpxzgW4J0\n",
      "3 https://www.youtube.com/channel/UCs-QBT4qkj_YiQw1ZntDO3g/videos\n"
     ]
    },
    {
     "name": "stderr",
     "output_type": "stream",
     "text": [
      " 80%|████████  | 4/5 [00:26<00:05,  5.95s/it]"
     ]
    },
    {
     "name": "stdout",
     "output_type": "stream",
     "text": [
      "1시간 전 https://youtu.be/MwCnjaAaA7Y\n",
      "1일 전 https://youtu.be/GkdjGvgx4Bk\n",
      "5일 전 https://youtu.be/Ml-n-jy9Ndc\n",
      "6일 전 https://youtu.be/IfMUaBDO3UE\n",
      "7일 전 https://youtu.be/ib5bV_dWs9A\n",
      "4 https://www.youtube.com/channel/UCnUAyD4t2LkvW68YrDh7fDg/videos\n"
     ]
    },
    {
     "name": "stderr",
     "output_type": "stream",
     "text": [
      "100%|██████████| 5/5 [00:30<00:00,  6.17s/it]"
     ]
    },
    {
     "name": "stdout",
     "output_type": "stream",
     "text": [
      "1일 전 https://youtu.be/xu_XNASHbuU\n",
      "4일 전 https://youtu.be/Ob92euLB_xc\n",
      "6일 전 https://youtu.be/4_vzrcxpT4I\n",
      "7일 전 https://youtu.be/_sNvoBDAaP0\n"
     ]
    },
    {
     "name": "stderr",
     "output_type": "stream",
     "text": [
      "\n"
     ]
    }
   ],
   "source": [
    "# Store channels' video id lists (VOD)\n",
    "vod_dic = crawler.get_videos(channel_id=channel_id, video_type=\"VOD\", date_limit=\"10일 전\")"
   ]
  },
  {
   "cell_type": "code",
   "execution_count": 28,
   "metadata": {},
   "outputs": [
    {
     "name": "stderr",
     "output_type": "stream",
     "text": [
      "  0%|          | 0/5 [00:00<?, ?it/s]"
     ]
    },
    {
     "name": "stdout",
     "output_type": "stream",
     "text": [
      "0 https://www.youtube.com/channel/UCMki_UkHb4qSc0qyEcOHHJw\n",
      "0 https://www.youtube.com/channel/UCMki_UkHb4qSc0qyEcOHHJw/shorts\n"
     ]
    },
    {
     "name": "stderr",
     "output_type": "stream",
     "text": [
      " 20%|██        | 1/5 [00:12<00:48, 12.06s/it]"
     ]
    },
    {
     "name": "stdout",
     "output_type": "stream",
     "text": [
      "0 0 https://youtu.be/ygV508RkQEQ\n",
      "0 1 https://youtu.be/JDlXOp5mGws\n",
      "0 2 https://youtu.be/Mxv2P187m-k\n",
      "0 3 https://youtu.be/MYcI76emM0k\n",
      "0 4 https://youtu.be/Tjy4KsoTGTM\n",
      "0 5 https://youtu.be/JhsdtEeT_VQ\n",
      "0 6 https://youtu.be/kEmfaGm0Vn8\n",
      "0 7 https://youtu.be/WThGkfg7wrI\n",
      "0 8 https://youtu.be/WqmbxjkiTwQ\n",
      "0 9 https://youtu.be/_JjR7tpYjBo\n",
      "0 10 https://youtu.be/YOa6G9PCdEE\n",
      "0 11 https://youtu.be/eeDLX0OdxpE\n",
      "0 12 https://youtu.be/gMMscf4rdOQ\n",
      "0 13 https://youtu.be/e9QZIohNubE\n",
      "0 14 https://youtu.be/yRf55fFE4MQ\n",
      "0 15 https://youtu.be/FyhdQl1ERoY\n",
      "0 16 https://youtu.be/U6G6ZDKDvIQ\n",
      "0 17 https://youtu.be/5m4UBXXs01s\n",
      "0 18 https://youtu.be/xsYYxUsuXZY\n",
      "0 19 https://youtu.be/-r0Vat3Paxw\n",
      "1 https://www.youtube.com/channel/UC9GtSLeksfK4yuJ_g1lgQbg\n",
      "1 https://www.youtube.com/channel/UC9GtSLeksfK4yuJ_g1lgQbg/shorts\n"
     ]
    },
    {
     "name": "stderr",
     "output_type": "stream",
     "text": [
      " 40%|████      | 2/5 [00:23<00:35, 11.77s/it]"
     ]
    },
    {
     "name": "stdout",
     "output_type": "stream",
     "text": [
      "1 0 https://youtu.be/72ARETXlWqI\n",
      "1 1 https://youtu.be/fRUmGjnmLxc\n",
      "1 2 https://youtu.be/dW0XmbiN-lo\n",
      "1 3 https://youtu.be/WwIJhX7pZOs\n",
      "1 4 https://youtu.be/bs6eV7HZ8Ew\n",
      "1 5 https://youtu.be/TEN8JnAgmhM\n",
      "1 6 https://youtu.be/WCTenr7b3-8\n",
      "1 7 https://youtu.be/82OTNOclCns\n",
      "1 8 https://youtu.be/VfmYX9HP_6U\n",
      "1 9 https://youtu.be/SIRvwM_hq_4\n",
      "1 10 https://youtu.be/5jbQmW8FTnw\n",
      "1 11 https://youtu.be/s5JAowySfQ4\n",
      "1 12 https://youtu.be/IXyX78H5vrc\n",
      "1 13 https://youtu.be/ynPhlfBSmj4\n",
      "1 14 https://youtu.be/PLIE3tCmkzE\n",
      "1 15 https://youtu.be/DEy8QT28RsI\n",
      "1 16 https://youtu.be/OLQ-uJ16vVU\n",
      "1 17 https://youtu.be/wmYTv_R3xj8\n",
      "1 18 https://youtu.be/GThlAuJ30T0\n",
      "1 19 https://youtu.be/GqBhXXr6YkM\n",
      "2 https://www.youtube.com/channel/UC-Fnix71vRP64WXeo0ikd0Q\n",
      "2 https://www.youtube.com/channel/UC-Fnix71vRP64WXeo0ikd0Q/shorts\n"
     ]
    },
    {
     "name": "stderr",
     "output_type": "stream",
     "text": [
      " 60%|██████    | 3/5 [00:33<00:21, 10.95s/it]"
     ]
    },
    {
     "name": "stdout",
     "output_type": "stream",
     "text": [
      "2 0 https://youtu.be/Ou8szg318Lo\n",
      "2 1 https://youtu.be/UIkmJDaDGQ0\n",
      "2 2 https://youtu.be/gYzQVam9NJI\n",
      "2 3 https://youtu.be/0s8_afbgbc0\n",
      "2 4 https://youtu.be/HgmfWyG2wNg\n",
      "2 5 https://youtu.be/YbH2SuTkpvo\n",
      "2 6 https://youtu.be/hiaEA0wy1kI\n",
      "2 7 https://youtu.be/VWiv2_QEvNA\n",
      "2 8 https://youtu.be/3_rbbNR1yr0\n",
      "2 9 https://youtu.be/WEVxf5qCQVA\n",
      "2 10 https://youtu.be/K0zSAM2FQgc\n",
      "2 11 https://youtu.be/HfB9MNdROHQ\n",
      "2 12 https://youtu.be/mId1pnKVN6M\n",
      "2 13 https://youtu.be/vRfBpJ0p0xI\n",
      "2 14 https://youtu.be/woidWbTluWw\n",
      "2 15 https://youtu.be/x8XbRTah5mw\n",
      "2 16 https://youtu.be/2-hMMJGl8Cg\n",
      "2 17 https://youtu.be/UmE5xh-__A4\n",
      "2 18 https://youtu.be/6Nz10U5ROn8\n",
      "2 19 https://youtu.be/r-YyRWdHgzo\n",
      "3 https://www.youtube.com/channel/UCs-QBT4qkj_YiQw1ZntDO3g\n",
      "3 https://www.youtube.com/channel/UCs-QBT4qkj_YiQw1ZntDO3g/shorts\n"
     ]
    },
    {
     "name": "stderr",
     "output_type": "stream",
     "text": [
      " 80%|████████  | 4/5 [00:44<00:10, 10.81s/it]"
     ]
    },
    {
     "name": "stdout",
     "output_type": "stream",
     "text": [
      "3 0 https://youtu.be/B-MFiegMJ3k\n",
      "3 1 https://youtu.be/bAT8Ehz-osQ\n",
      "3 2 https://youtu.be/Sn_IjuaFqIQ\n",
      "3 3 https://youtu.be/c_RW4os40wk\n",
      "3 4 https://youtu.be/kJ22Bq0oG08\n",
      "3 5 https://youtu.be/Ie4DSJ8jAl0\n",
      "3 6 https://youtu.be/oh7v2MiH0BU\n",
      "3 7 https://youtu.be/sdp8zDEwiWc\n",
      "3 8 https://youtu.be/HrQ2Q70zvKk\n",
      "3 9 https://youtu.be/l-juemcpxP8\n",
      "3 10 https://youtu.be/5R-SEvm7AUk\n",
      "3 11 https://youtu.be/cI29jLDQhBw\n",
      "3 12 https://youtu.be/uwGHVJyrG_U\n",
      "3 13 https://youtu.be/JpmY8kAfij4\n",
      "3 14 https://youtu.be/SkUJiAI5J9o\n",
      "3 15 https://youtu.be/aUqx4aIrH-o\n",
      "3 16 https://youtu.be/JWuKEM1iBHE\n",
      "3 17 https://youtu.be/dRFLVtbrA9k\n",
      "3 18 https://youtu.be/jjW9IZYBWrs\n",
      "3 19 https://youtu.be/ust5_AvrRrM\n",
      "4 https://www.youtube.com/channel/UCnUAyD4t2LkvW68YrDh7fDg\n",
      "4 https://www.youtube.com/channel/UCnUAyD4t2LkvW68YrDh7fDg/shorts\n"
     ]
    },
    {
     "name": "stderr",
     "output_type": "stream",
     "text": [
      "100%|██████████| 5/5 [00:54<00:00, 10.86s/it]"
     ]
    },
    {
     "name": "stdout",
     "output_type": "stream",
     "text": [
      "4 0 https://youtu.be/_0YlvuwxlC0\n",
      "4 1 https://youtu.be/nYe8ffhpE3Y\n",
      "4 2 https://youtu.be/oV-w1MBedF0\n",
      "4 3 https://youtu.be/ZybZEZSKVR8\n",
      "4 4 https://youtu.be/3TgXHq7ZPqk\n",
      "4 5 https://youtu.be/Kr7-MBdXYBc\n",
      "4 6 https://youtu.be/PuvVuHyNVkU\n",
      "4 7 https://youtu.be/jNqxOpIwrNk\n",
      "4 8 https://youtu.be/3j_1U-g3z3g\n",
      "4 9 https://youtu.be/O_fRI4veuq4\n",
      "4 10 https://youtu.be/RFDMhqsSGhs\n",
      "4 11 https://youtu.be/xSEpc_B4kNQ\n",
      "4 12 https://youtu.be/zx6EA6wKVsk\n",
      "4 13 https://youtu.be/IO_7mxzOn7Y\n",
      "4 14 https://youtu.be/XHtD8zDOV8s\n",
      "4 15 https://youtu.be/X0YiZVzfTws\n",
      "4 16 https://youtu.be/zHdXWp__B18\n",
      "4 17 https://youtu.be/9B4TBk7fUd4\n",
      "4 18 https://youtu.be/55Jt0QTtQVo\n",
      "4 19 https://youtu.be/Ejo8IsdRcK4\n"
     ]
    },
    {
     "name": "stderr",
     "output_type": "stream",
     "text": [
      "\n"
     ]
    }
   ],
   "source": [
    "# Store channels' video id lists (SHORTS)\n",
    "shorts_dic = crawler.get_videos(channel_id=channel_id, video_type=\"Shorts\", shorts_count=20)"
   ]
  },
  {
   "cell_type": "markdown",
   "metadata": {},
   "source": [
    "### Combine new video list with existing ad_list"
   ]
  },
  {
   "cell_type": "code",
   "execution_count": 88,
   "metadata": {},
   "outputs": [
    {
     "data": {
      "text/plain": [
       "{'UCMki_UkHb4qSc0qyEcOHHJw': ['https://youtu.be/NB44sWLhAAQ',\n",
       "  'https://youtu.be/uB3al5c0gJ4',\n",
       "  'https://youtu.be/RdHR1cZZUR0'],\n",
       " 'UC9GtSLeksfK4yuJ_g1lgQbg': ['https://youtu.be/5rGgmvZIfus',\n",
       "  'https://youtu.be/9Wmcywak2vQ',\n",
       "  'https://youtu.be/2sVHcrZMYWo',\n",
       "  'https://youtu.be/Yy3BCQCeBMg',\n",
       "  'https://youtu.be/9J1lOMDYW14',\n",
       "  'https://youtu.be/1ddlidZjBWg',\n",
       "  'https://youtu.be/gvjzw8IABjU'],\n",
       " 'UC-Fnix71vRP64WXeo0ikd0Q': ['https://youtu.be/-MtfHxitugU',\n",
       "  'https://youtu.be/IALcGjfZPF4',\n",
       "  'https://youtu.be/Evz7xIaAKJQ',\n",
       "  'https://youtu.be/l5LpxzgW4J0'],\n",
       " 'UCs-QBT4qkj_YiQw1ZntDO3g': ['https://youtu.be/MwCnjaAaA7Y',\n",
       "  'https://youtu.be/GkdjGvgx4Bk',\n",
       "  'https://youtu.be/Ml-n-jy9Ndc',\n",
       "  'https://youtu.be/IfMUaBDO3UE',\n",
       "  'https://youtu.be/ib5bV_dWs9A'],\n",
       " 'UCnUAyD4t2LkvW68YrDh7fDg': ['https://youtu.be/xu_XNASHbuU',\n",
       "  'https://youtu.be/Ob92euLB_xc',\n",
       "  'https://youtu.be/4_vzrcxpT4I',\n",
       "  'https://youtu.be/_sNvoBDAaP0']}"
      ]
     },
     "execution_count": 88,
     "metadata": {},
     "output_type": "execute_result"
    }
   ],
   "source": [
    "vod_dic"
   ]
  },
  {
   "cell_type": "code",
   "execution_count": 95,
   "metadata": {},
   "outputs": [
    {
     "data": {
      "text/html": [
       "<div>\n",
       "<style scoped>\n",
       "    .dataframe tbody tr th:only-of-type {\n",
       "        vertical-align: middle;\n",
       "    }\n",
       "\n",
       "    .dataframe tbody tr th {\n",
       "        vertical-align: top;\n",
       "    }\n",
       "\n",
       "    .dataframe thead th {\n",
       "        text-align: right;\n",
       "    }\n",
       "</style>\n",
       "<table border=\"1\" class=\"dataframe\">\n",
       "  <thead>\n",
       "    <tr style=\"text-align: right;\">\n",
       "      <th></th>\n",
       "      <th>channel_id</th>\n",
       "      <th>video_url</th>\n",
       "      <th>is_ad</th>\n",
       "      <th>video_format</th>\n",
       "    </tr>\n",
       "  </thead>\n",
       "  <tbody>\n",
       "    <tr>\n",
       "      <th>0</th>\n",
       "      <td>UCMki_UkHb4qSc0qyEcOHHJw</td>\n",
       "      <td>https://youtu.be/NB44sWLhAAQ</td>\n",
       "      <td>F</td>\n",
       "      <td>VOD</td>\n",
       "    </tr>\n",
       "    <tr>\n",
       "      <th>1</th>\n",
       "      <td>UCMki_UkHb4qSc0qyEcOHHJw</td>\n",
       "      <td>https://youtu.be/uB3al5c0gJ4</td>\n",
       "      <td>F</td>\n",
       "      <td>VOD</td>\n",
       "    </tr>\n",
       "    <tr>\n",
       "      <th>2</th>\n",
       "      <td>UCMki_UkHb4qSc0qyEcOHHJw</td>\n",
       "      <td>https://youtu.be/RdHR1cZZUR0</td>\n",
       "      <td>F</td>\n",
       "      <td>VOD</td>\n",
       "    </tr>\n",
       "    <tr>\n",
       "      <th>3</th>\n",
       "      <td>UCMki_UkHb4qSc0qyEcOHHJw</td>\n",
       "      <td>https://youtu.be/Ol1K9K2HRqo</td>\n",
       "      <td>F</td>\n",
       "      <td>VOD</td>\n",
       "    </tr>\n",
       "    <tr>\n",
       "      <th>4</th>\n",
       "      <td>UCMki_UkHb4qSc0qyEcOHHJw</td>\n",
       "      <td>https://youtu.be/oMhrUjdkZRs</td>\n",
       "      <td>F</td>\n",
       "      <td>VOD</td>\n",
       "    </tr>\n",
       "    <tr>\n",
       "      <th>...</th>\n",
       "      <td>...</td>\n",
       "      <td>...</td>\n",
       "      <td>...</td>\n",
       "      <td>...</td>\n",
       "    </tr>\n",
       "    <tr>\n",
       "      <th>138</th>\n",
       "      <td>UCnUAyD4t2LkvW68YrDh7fDg</td>\n",
       "      <td>https://youtu.be/_0YlvuwxlC0</td>\n",
       "      <td>F</td>\n",
       "      <td>SHORTS</td>\n",
       "    </tr>\n",
       "    <tr>\n",
       "      <th>139</th>\n",
       "      <td>UCnUAyD4t2LkvW68YrDh7fDg</td>\n",
       "      <td>https://youtu.be/nYe8ffhpE3Y</td>\n",
       "      <td>F</td>\n",
       "      <td>SHORTS</td>\n",
       "    </tr>\n",
       "    <tr>\n",
       "      <th>140</th>\n",
       "      <td>UCnUAyD4t2LkvW68YrDh7fDg</td>\n",
       "      <td>https://youtu.be/oV-w1MBedF0</td>\n",
       "      <td>F</td>\n",
       "      <td>SHORTS</td>\n",
       "    </tr>\n",
       "    <tr>\n",
       "      <th>141</th>\n",
       "      <td>UCnUAyD4t2LkvW68YrDh7fDg</td>\n",
       "      <td>https://youtu.be/ZybZEZSKVR8</td>\n",
       "      <td>F</td>\n",
       "      <td>SHORTS</td>\n",
       "    </tr>\n",
       "    <tr>\n",
       "      <th>142</th>\n",
       "      <td>UCnUAyD4t2LkvW68YrDh7fDg</td>\n",
       "      <td>https://youtu.be/3TgXHq7ZPqk</td>\n",
       "      <td>F</td>\n",
       "      <td>SHORTS</td>\n",
       "    </tr>\n",
       "  </tbody>\n",
       "</table>\n",
       "<p>143 rows × 4 columns</p>\n",
       "</div>"
      ],
      "text/plain": [
       "                   channel_id                     video_url is_ad video_format\n",
       "0    UCMki_UkHb4qSc0qyEcOHHJw  https://youtu.be/NB44sWLhAAQ     F          VOD\n",
       "1    UCMki_UkHb4qSc0qyEcOHHJw  https://youtu.be/uB3al5c0gJ4     F          VOD\n",
       "2    UCMki_UkHb4qSc0qyEcOHHJw  https://youtu.be/RdHR1cZZUR0     F          VOD\n",
       "3    UCMki_UkHb4qSc0qyEcOHHJw  https://youtu.be/Ol1K9K2HRqo     F          VOD\n",
       "4    UCMki_UkHb4qSc0qyEcOHHJw  https://youtu.be/oMhrUjdkZRs     F          VOD\n",
       "..                        ...                           ...   ...          ...\n",
       "138  UCnUAyD4t2LkvW68YrDh7fDg  https://youtu.be/_0YlvuwxlC0     F       SHORTS\n",
       "139  UCnUAyD4t2LkvW68YrDh7fDg  https://youtu.be/nYe8ffhpE3Y     F       SHORTS\n",
       "140  UCnUAyD4t2LkvW68YrDh7fDg  https://youtu.be/oV-w1MBedF0     F       SHORTS\n",
       "141  UCnUAyD4t2LkvW68YrDh7fDg  https://youtu.be/ZybZEZSKVR8     F       SHORTS\n",
       "142  UCnUAyD4t2LkvW68YrDh7fDg  https://youtu.be/3TgXHq7ZPqk     F       SHORTS\n",
       "\n",
       "[143 rows x 4 columns]"
      ]
     },
     "execution_count": 95,
     "metadata": {},
     "output_type": "execute_result"
    }
   ],
   "source": [
    "# Combine new vod list with existing list from google sheet(ad_list)\n",
    "for i in range(len(vod_dic.keys())):\n",
    "    # Create a df\n",
    "    new_vod_df = pd.DataFrame({'channel_id':[list(vod_dic.keys())[i]] * len(vod_dic[list(vod_dic.keys())[i]]), \n",
    "                                  'video_url': vod_dic[list(vod_dic.keys())[i]],\n",
    "                                  'video_format':'VOD'})\n",
    "    vid_list_df = pd.concat([vid_list_df, new_vod_df])\n",
    "    \n",
    "vid_list_df = vid_list_df.drop_duplicates(subset=['video_url'], keep='first')\n",
    "vid_list_df = vid_list_df.reset_index(drop=True)\n",
    "vid_list_df"
   ]
  },
  {
   "cell_type": "code",
   "execution_count": 96,
   "metadata": {},
   "outputs": [
    {
     "data": {
      "text/html": [
       "<div>\n",
       "<style scoped>\n",
       "    .dataframe tbody tr th:only-of-type {\n",
       "        vertical-align: middle;\n",
       "    }\n",
       "\n",
       "    .dataframe tbody tr th {\n",
       "        vertical-align: top;\n",
       "    }\n",
       "\n",
       "    .dataframe thead th {\n",
       "        text-align: right;\n",
       "    }\n",
       "</style>\n",
       "<table border=\"1\" class=\"dataframe\">\n",
       "  <thead>\n",
       "    <tr style=\"text-align: right;\">\n",
       "      <th></th>\n",
       "      <th>channel_id</th>\n",
       "      <th>video_url</th>\n",
       "      <th>is_ad</th>\n",
       "      <th>video_format</th>\n",
       "    </tr>\n",
       "  </thead>\n",
       "  <tbody>\n",
       "    <tr>\n",
       "      <th>0</th>\n",
       "      <td>UCMki_UkHb4qSc0qyEcOHHJw</td>\n",
       "      <td>https://youtu.be/NB44sWLhAAQ</td>\n",
       "      <td>F</td>\n",
       "      <td>VOD</td>\n",
       "    </tr>\n",
       "    <tr>\n",
       "      <th>1</th>\n",
       "      <td>UCMki_UkHb4qSc0qyEcOHHJw</td>\n",
       "      <td>https://youtu.be/uB3al5c0gJ4</td>\n",
       "      <td>F</td>\n",
       "      <td>VOD</td>\n",
       "    </tr>\n",
       "    <tr>\n",
       "      <th>2</th>\n",
       "      <td>UCMki_UkHb4qSc0qyEcOHHJw</td>\n",
       "      <td>https://youtu.be/RdHR1cZZUR0</td>\n",
       "      <td>F</td>\n",
       "      <td>VOD</td>\n",
       "    </tr>\n",
       "    <tr>\n",
       "      <th>3</th>\n",
       "      <td>UCMki_UkHb4qSc0qyEcOHHJw</td>\n",
       "      <td>https://youtu.be/Ol1K9K2HRqo</td>\n",
       "      <td>F</td>\n",
       "      <td>VOD</td>\n",
       "    </tr>\n",
       "    <tr>\n",
       "      <th>4</th>\n",
       "      <td>UCMki_UkHb4qSc0qyEcOHHJw</td>\n",
       "      <td>https://youtu.be/oMhrUjdkZRs</td>\n",
       "      <td>F</td>\n",
       "      <td>VOD</td>\n",
       "    </tr>\n",
       "    <tr>\n",
       "      <th>...</th>\n",
       "      <td>...</td>\n",
       "      <td>...</td>\n",
       "      <td>...</td>\n",
       "      <td>...</td>\n",
       "    </tr>\n",
       "    <tr>\n",
       "      <th>138</th>\n",
       "      <td>UCnUAyD4t2LkvW68YrDh7fDg</td>\n",
       "      <td>https://youtu.be/_0YlvuwxlC0</td>\n",
       "      <td>F</td>\n",
       "      <td>SHORTS</td>\n",
       "    </tr>\n",
       "    <tr>\n",
       "      <th>139</th>\n",
       "      <td>UCnUAyD4t2LkvW68YrDh7fDg</td>\n",
       "      <td>https://youtu.be/nYe8ffhpE3Y</td>\n",
       "      <td>F</td>\n",
       "      <td>SHORTS</td>\n",
       "    </tr>\n",
       "    <tr>\n",
       "      <th>140</th>\n",
       "      <td>UCnUAyD4t2LkvW68YrDh7fDg</td>\n",
       "      <td>https://youtu.be/oV-w1MBedF0</td>\n",
       "      <td>F</td>\n",
       "      <td>SHORTS</td>\n",
       "    </tr>\n",
       "    <tr>\n",
       "      <th>141</th>\n",
       "      <td>UCnUAyD4t2LkvW68YrDh7fDg</td>\n",
       "      <td>https://youtu.be/ZybZEZSKVR8</td>\n",
       "      <td>F</td>\n",
       "      <td>SHORTS</td>\n",
       "    </tr>\n",
       "    <tr>\n",
       "      <th>142</th>\n",
       "      <td>UCnUAyD4t2LkvW68YrDh7fDg</td>\n",
       "      <td>https://youtu.be/3TgXHq7ZPqk</td>\n",
       "      <td>F</td>\n",
       "      <td>SHORTS</td>\n",
       "    </tr>\n",
       "  </tbody>\n",
       "</table>\n",
       "<p>143 rows × 4 columns</p>\n",
       "</div>"
      ],
      "text/plain": [
       "                   channel_id                     video_url is_ad video_format\n",
       "0    UCMki_UkHb4qSc0qyEcOHHJw  https://youtu.be/NB44sWLhAAQ     F          VOD\n",
       "1    UCMki_UkHb4qSc0qyEcOHHJw  https://youtu.be/uB3al5c0gJ4     F          VOD\n",
       "2    UCMki_UkHb4qSc0qyEcOHHJw  https://youtu.be/RdHR1cZZUR0     F          VOD\n",
       "3    UCMki_UkHb4qSc0qyEcOHHJw  https://youtu.be/Ol1K9K2HRqo     F          VOD\n",
       "4    UCMki_UkHb4qSc0qyEcOHHJw  https://youtu.be/oMhrUjdkZRs     F          VOD\n",
       "..                        ...                           ...   ...          ...\n",
       "138  UCnUAyD4t2LkvW68YrDh7fDg  https://youtu.be/_0YlvuwxlC0     F       SHORTS\n",
       "139  UCnUAyD4t2LkvW68YrDh7fDg  https://youtu.be/nYe8ffhpE3Y     F       SHORTS\n",
       "140  UCnUAyD4t2LkvW68YrDh7fDg  https://youtu.be/oV-w1MBedF0     F       SHORTS\n",
       "141  UCnUAyD4t2LkvW68YrDh7fDg  https://youtu.be/ZybZEZSKVR8     F       SHORTS\n",
       "142  UCnUAyD4t2LkvW68YrDh7fDg  https://youtu.be/3TgXHq7ZPqk     F       SHORTS\n",
       "\n",
       "[143 rows x 4 columns]"
      ]
     },
     "execution_count": 96,
     "metadata": {},
     "output_type": "execute_result"
    }
   ],
   "source": [
    "# Combine new shorts list with existing list from google sheet(ad_list)\n",
    "for i in range(len(shorts_dic.keys())):\n",
    "    # Create a df\n",
    "    new_shorts_df = pd.DataFrame({'channel_id':[list(shorts_dic.keys())[i]] * len(shorts_dic[list(shorts_dic.keys())[i]]), \n",
    "                                  'video_url': shorts_dic[list(shorts_dic.keys())[i]],\n",
    "                                  'video_format':'SHORTS'})\n",
    "    vid_list_df = pd.concat([vid_list_df, new_shorts_df])\n",
    "    \n",
    "vid_list_df = vid_list_df.drop_duplicates(subset=['video_url'], keep='first')\n",
    "vid_list_df = vid_list_df.reset_index(drop=True)\n",
    "vid_list_df"
   ]
  },
  {
   "cell_type": "markdown",
   "metadata": {},
   "source": [
    "### Update channel video list to google sheet"
   ]
  },
  {
   "cell_type": "code",
   "execution_count": 31,
   "metadata": {},
   "outputs": [],
   "source": [
    "# vid_list sheet\n",
    "spreadsheet_url = \"https://docs.google.com/spreadsheets/d/1XPgKbblXTnwPJ5FNW4adxnGmrhMJllveFe4EfqWOc48/edit#gid=2084333239\"\n",
    "sid = spreadsheet_url.split(\"/d/\")[1].split(\"/edit\")[0]\n",
    "sh = gc.open_by_key(sid)\n",
    "\n",
    "# Update the sheet with new dataframe\n",
    "wks_ad = sh.worksheet_by_title('video_list')\n",
    "wks_ad.clear('A1','AZ')\n",
    "wks_ad.set_dataframe(vid_list_df, 'A1', index=False)"
   ]
  },
  {
   "cell_type": "markdown",
   "metadata": {},
   "source": [
    "### Load the video list again"
   ]
  },
  {
   "cell_type": "code",
   "execution_count": 100,
   "metadata": {},
   "outputs": [
    {
     "name": "stdout",
     "output_type": "stream",
     "text": [
      "(row, col):  (143, 4)\n"
     ]
    },
    {
     "data": {
      "text/html": [
       "<div>\n",
       "<style scoped>\n",
       "    .dataframe tbody tr th:only-of-type {\n",
       "        vertical-align: middle;\n",
       "    }\n",
       "\n",
       "    .dataframe tbody tr th {\n",
       "        vertical-align: top;\n",
       "    }\n",
       "\n",
       "    .dataframe thead th {\n",
       "        text-align: right;\n",
       "    }\n",
       "</style>\n",
       "<table border=\"1\" class=\"dataframe\">\n",
       "  <thead>\n",
       "    <tr style=\"text-align: right;\">\n",
       "      <th></th>\n",
       "      <th>channel_id</th>\n",
       "      <th>video_url</th>\n",
       "      <th>is_ad</th>\n",
       "      <th>video_format</th>\n",
       "    </tr>\n",
       "  </thead>\n",
       "  <tbody>\n",
       "    <tr>\n",
       "      <th>0</th>\n",
       "      <td>UCMki_UkHb4qSc0qyEcOHHJw</td>\n",
       "      <td>https://youtu.be/NB44sWLhAAQ</td>\n",
       "      <td>F</td>\n",
       "      <td>VOD</td>\n",
       "    </tr>\n",
       "    <tr>\n",
       "      <th>1</th>\n",
       "      <td>UCMki_UkHb4qSc0qyEcOHHJw</td>\n",
       "      <td>https://youtu.be/uB3al5c0gJ4</td>\n",
       "      <td>F</td>\n",
       "      <td>VOD</td>\n",
       "    </tr>\n",
       "    <tr>\n",
       "      <th>2</th>\n",
       "      <td>UCMki_UkHb4qSc0qyEcOHHJw</td>\n",
       "      <td>https://youtu.be/RdHR1cZZUR0</td>\n",
       "      <td>F</td>\n",
       "      <td>VOD</td>\n",
       "    </tr>\n",
       "  </tbody>\n",
       "</table>\n",
       "</div>"
      ],
      "text/plain": [
       "                 channel_id                     video_url is_ad video_format\n",
       "0  UCMki_UkHb4qSc0qyEcOHHJw  https://youtu.be/NB44sWLhAAQ     F          VOD\n",
       "1  UCMki_UkHb4qSc0qyEcOHHJw  https://youtu.be/uB3al5c0gJ4     F          VOD\n",
       "2  UCMki_UkHb4qSc0qyEcOHHJw  https://youtu.be/RdHR1cZZUR0     F          VOD"
      ]
     },
     "execution_count": 100,
     "metadata": {},
     "output_type": "execute_result"
    }
   ],
   "source": [
    "# Get the dataframe back from the sheet\n",
    "# vid_list sheet\n",
    "spreadsheet_url = \"https://docs.google.com/spreadsheets/d/1XPgKbblXTnwPJ5FNW4adxnGmrhMJllveFe4EfqWOc48/edit#gid=2084333239\"\n",
    "sid = spreadsheet_url.split(\"/d/\")[1].split(\"/edit\")[0]\n",
    "sh = gc.open_by_key(sid)\n",
    "wks_vid_list = sh.worksheet_by_title('video_list')\n",
    "\n",
    "# Get ad_check Sheet\n",
    "vid_list_df = wks_vid_list.get_as_df(has_header=True , index_column=None , start='A1', end='AE1000000' , numerize=True , empty_value=np.nan)\n",
    "\n",
    "print('(row, col): ', vid_list_df.shape)\n",
    "vid_list_df.head(3)"
   ]
  },
  {
   "cell_type": "markdown",
   "metadata": {},
   "source": [
    "### Check if any of the new video is sponsored"
   ]
  },
  {
   "cell_type": "code",
   "execution_count": 103,
   "metadata": {},
   "outputs": [
    {
     "name": "stderr",
     "output_type": "stream",
     "text": [
      "  6%|▋         | 1/16 [00:12<03:01, 12.12s/it]"
     ]
    },
    {
     "name": "stdout",
     "output_type": "stream",
     "text": [
      "1 https://youtu.be/9Wmcywak2vQ False\n"
     ]
    },
    {
     "name": "stderr",
     "output_type": "stream",
     "text": [
      " 12%|█▎        | 2/16 [00:21<02:27, 10.52s/it]"
     ]
    },
    {
     "name": "stdout",
     "output_type": "stream",
     "text": [
      "2 https://youtu.be/-MtfHxitugU False\n"
     ]
    },
    {
     "name": "stderr",
     "output_type": "stream",
     "text": [
      " 19%|█▉        | 3/16 [00:30<02:08,  9.89s/it]"
     ]
    },
    {
     "name": "stdout",
     "output_type": "stream",
     "text": [
      "3 https://youtu.be/MwCnjaAaA7Y False\n"
     ]
    },
    {
     "name": "stderr",
     "output_type": "stream",
     "text": [
      " 25%|██▌       | 4/16 [00:39<01:52,  9.40s/it]"
     ]
    },
    {
     "name": "stdout",
     "output_type": "stream",
     "text": [
      "4 https://youtu.be/GkdjGvgx4Bk False\n",
      "5 https://youtu.be/xu_XNASHbuU False\n"
     ]
    },
    {
     "name": "stderr",
     "output_type": "stream",
     "text": [
      " 38%|███▊      | 6/16 [00:57<01:30,  9.07s/it]"
     ]
    },
    {
     "name": "stdout",
     "output_type": "stream",
     "text": [
      "6 https://youtu.be/ygV508RkQEQ False\n"
     ]
    },
    {
     "name": "stderr",
     "output_type": "stream",
     "text": [
      " 44%|████▍     | 7/16 [01:05<01:19,  8.84s/it]"
     ]
    },
    {
     "name": "stdout",
     "output_type": "stream",
     "text": [
      "7 https://youtu.be/JDlXOp5mGws False\n"
     ]
    },
    {
     "name": "stderr",
     "output_type": "stream",
     "text": [
      " 50%|█████     | 8/16 [01:13<01:09,  8.69s/it]"
     ]
    },
    {
     "name": "stdout",
     "output_type": "stream",
     "text": [
      "8 https://youtu.be/72ARETXlWqI False\n"
     ]
    },
    {
     "name": "stderr",
     "output_type": "stream",
     "text": [
      " 56%|█████▋    | 9/16 [01:22<01:00,  8.61s/it]"
     ]
    },
    {
     "name": "stdout",
     "output_type": "stream",
     "text": [
      "9 https://youtu.be/fRUmGjnmLxc False\n"
     ]
    },
    {
     "name": "stderr",
     "output_type": "stream",
     "text": [
      " 62%|██████▎   | 10/16 [01:30<00:51,  8.52s/it]"
     ]
    },
    {
     "name": "stdout",
     "output_type": "stream",
     "text": [
      "10 https://youtu.be/B-MFiegMJ3k False\n"
     ]
    },
    {
     "name": "stderr",
     "output_type": "stream",
     "text": [
      " 69%|██████▉   | 11/16 [01:38<00:42,  8.41s/it]"
     ]
    },
    {
     "name": "stdout",
     "output_type": "stream",
     "text": [
      "11 https://youtu.be/bAT8Ehz-osQ False\n"
     ]
    },
    {
     "name": "stderr",
     "output_type": "stream",
     "text": [
      " 75%|███████▌  | 12/16 [01:47<00:33,  8.46s/it]"
     ]
    },
    {
     "name": "stdout",
     "output_type": "stream",
     "text": [
      "12 https://youtu.be/_0YlvuwxlC0 False\n"
     ]
    },
    {
     "name": "stderr",
     "output_type": "stream",
     "text": [
      " 81%|████████▏ | 13/16 [01:55<00:25,  8.50s/it]"
     ]
    },
    {
     "name": "stdout",
     "output_type": "stream",
     "text": [
      "13 https://youtu.be/nYe8ffhpE3Y False\n"
     ]
    },
    {
     "name": "stderr",
     "output_type": "stream",
     "text": [
      " 88%|████████▊ | 14/16 [02:04<00:17,  8.59s/it]"
     ]
    },
    {
     "name": "stdout",
     "output_type": "stream",
     "text": [
      "14 https://youtu.be/oV-w1MBedF0 False\n"
     ]
    },
    {
     "name": "stderr",
     "output_type": "stream",
     "text": [
      " 94%|█████████▍| 15/16 [02:16<00:09,  9.47s/it]"
     ]
    },
    {
     "name": "stdout",
     "output_type": "stream",
     "text": [
      "15 https://youtu.be/ZybZEZSKVR8 False\n"
     ]
    },
    {
     "name": "stderr",
     "output_type": "stream",
     "text": [
      "100%|██████████| 16/16 [02:24<00:00,  9.04s/it]"
     ]
    },
    {
     "name": "stdout",
     "output_type": "stream",
     "text": [
      "16 https://youtu.be/3TgXHq7ZPqk False\n"
     ]
    },
    {
     "name": "stderr",
     "output_type": "stream",
     "text": [
      "\n"
     ]
    }
   ],
   "source": [
    "# Get the new vid list from the total df\n",
    "new_vid_list_df = vid_list_df.loc[vid_list_df['is_ad'].isnull()].reset_index(drop=True)\n",
    "\n",
    "# Check for sponsored videos\n",
    "new_vid_list_df = crawler.check_ad(new_vid_list_df)"
   ]
  },
  {
   "cell_type": "code",
   "execution_count": 106,
   "metadata": {},
   "outputs": [],
   "source": [
    "# Get the total video list\n",
    "vid_list_df = pd.concat([vid_list_df, new_vid_list_df])\n",
    "vid_list_df = vid_list_df.drop_duplicates(subset=['video_url'], keep='last')\n",
    "vid_list_df = vid_list_df.reset_index(drop=True)\n",
    "\n",
    "# vid_list sheet\n",
    "spreadsheet_url = \"https://docs.google.com/spreadsheets/d/1XPgKbblXTnwPJ5FNW4adxnGmrhMJllveFe4EfqWOc48/edit#gid=2084333239\"\n",
    "sid = spreadsheet_url.split(\"/d/\")[1].split(\"/edit\")[0]\n",
    "sh = gc.open_by_key(sid)\n",
    "\n",
    "# Update the sheet with new dataframe\n",
    "wks_ad = sh.worksheet_by_title('video_list')\n",
    "wks_ad.clear('A1','AZ')\n",
    "wks_ad.set_dataframe(vid_list_df, 'A1', index=False)"
   ]
  },
  {
   "cell_type": "markdown",
   "metadata": {},
   "source": [
    "### Get video metrics for the new video list"
   ]
  },
  {
   "cell_type": "code",
   "execution_count": 107,
   "metadata": {},
   "outputs": [
    {
     "name": "stderr",
     "output_type": "stream",
     "text": [
      "  6%|▌         | 1/17 [00:08<02:08,  8.01s/it]"
     ]
    },
    {
     "name": "stdout",
     "output_type": "stream",
     "text": [
      "0 UC9GtSLeksfK4yuJ_g1lgQbg 508만 https://youtu.be/5rGgmvZIfus 되게 꽉 차게 하루를 보냈던 것 같아요🐶🍀👚 | NINGNING in Atlanta & Washington & Chicago | NING’S LOG 2023.12.11 124,646 662 12,150\n"
     ]
    },
    {
     "name": "stderr",
     "output_type": "stream",
     "text": [
      " 12%|█▏        | 2/17 [00:15<01:57,  7.86s/it]"
     ]
    },
    {
     "name": "stdout",
     "output_type": "stream",
     "text": [
      "1 UC9GtSLeksfK4yuJ_g1lgQbg 508만 https://youtu.be/9Wmcywak2vQ 첫 개인화보를 오늘 찍었는데요😎🖤 | aespa GISELLE W Korea Photoshoot Behind 2023.12.10 58,614 549 8,582\n"
     ]
    },
    {
     "name": "stderr",
     "output_type": "stream",
     "text": [
      " 18%|█▊        | 3/17 [00:23<01:50,  7.91s/it]"
     ]
    },
    {
     "name": "stdout",
     "output_type": "stream",
     "text": [
      "2 UC-Fnix71vRP64WXeo0ikd0Q 317만 https://youtu.be/-MtfHxitugU [IVE ON] 'I'VE MINE' JAPAN PROMOTION BEHIND #1 2023.12.10 96,082 342 7,443\n"
     ]
    },
    {
     "name": "stderr",
     "output_type": "stream",
     "text": [
      " 24%|██▎       | 4/17 [00:32<01:46,  8.19s/it]"
     ]
    },
    {
     "name": "stdout",
     "output_type": "stream",
     "text": [
      "3 UCs-QBT4qkj_YiQw1ZntDO3g 427만 https://youtu.be/MwCnjaAaA7Y [LE▶️PLAY] 다꾸라 초콜릿 VS 아기 밀크초콜릿🍫  |  꾸라은즈의 대결⁉️ 2023.12.12 36,095 395 6,196\n"
     ]
    },
    {
     "name": "stderr",
     "output_type": "stream",
     "text": [
      " 29%|██▉       | 5/17 [00:40<01:36,  8.08s/it]"
     ]
    },
    {
     "name": "stdout",
     "output_type": "stream",
     "text": [
      "4 UCs-QBT4qkj_YiQw1ZntDO3g 427만 https://youtu.be/GkdjGvgx4Bk [EPISODE] KIM CHAEWON ‘짐빔 하이볼’ Ads Shoot Sketch 2023.12.11 112,963 529 10,090\n"
     ]
    },
    {
     "name": "stderr",
     "output_type": "stream",
     "text": [
      " 35%|███▌      | 6/17 [00:47<01:27,  7.96s/it]"
     ]
    },
    {
     "name": "stdout",
     "output_type": "stream",
     "text": [
      "5 UCnUAyD4t2LkvW68YrDh7fDg 228만 https://youtu.be/xu_XNASHbuU NMIXX(엔믹스) ‘Soñar (Breaker)’ Recording Behind #MIXXTREAM 2023.12.11 198,390 699 19,493\n"
     ]
    },
    {
     "name": "stderr",
     "output_type": "stream",
     "text": [
      " 41%|████      | 7/17 [00:55<01:17,  7.78s/it]"
     ]
    },
    {
     "name": "stdout",
     "output_type": "stream",
     "text": [
      "6 UCMki_UkHb4qSc0qyEcOHHJw 624만 https://youtu.be/ygV508RkQEQ 📦 I'm waiting for you #NewJeans #뉴진스 #SeasonsGreetings #시즌그리팅 2023.12.11 88,648 699 22,324\n"
     ]
    },
    {
     "name": "stderr",
     "output_type": "stream",
     "text": [
      " 47%|████▋     | 8/17 [01:02<01:09,  7.73s/it]"
     ]
    },
    {
     "name": "stdout",
     "output_type": "stream",
     "text": [
      "7 UCMki_UkHb4qSc0qyEcOHHJw 624만 https://youtu.be/JDlXOp5mGws 📦 I'm waiting for you #NewJeans #뉴진스 #SeasonsGreetings #시즌그리팅 2023.12.11 90,950 699 23,132\n"
     ]
    },
    {
     "name": "stderr",
     "output_type": "stream",
     "text": [
      " 53%|█████▎    | 9/17 [01:10<01:01,  7.64s/it]"
     ]
    },
    {
     "name": "stdout",
     "output_type": "stream",
     "text": [
      "8 UC9GtSLeksfK4yuJ_g1lgQbg 508만 https://youtu.be/72ARETXlWqI 크리스마스 선물로 #audiz 어떤데?#aespa #에스파 #KARINA #카리나 #GISELLE #지젤 #shorts 2023.12.11 384,967 427 64,633\n"
     ]
    },
    {
     "name": "stderr",
     "output_type": "stream",
     "text": [
      " 59%|█████▉    | 10/17 [01:17<00:52,  7.55s/it]"
     ]
    },
    {
     "name": "stdout",
     "output_type": "stream",
     "text": [
      "9 UC9GtSLeksfK4yuJ_g1lgQbg 508만 https://youtu.be/fRUmGjnmLxc #첫눈 에 널 사랑하게 됐고 영원할 거라는 걸 알고 있었어🔮#첫눈챌린지 ❄️ #aespa #audiz #KARINA #GISELLE #shorts 2023.12.11 561,034 427 59,896\n"
     ]
    },
    {
     "name": "stderr",
     "output_type": "stream",
     "text": [
      " 65%|██████▍   | 11/17 [01:25<00:45,  7.57s/it]"
     ]
    },
    {
     "name": "stdout",
     "output_type": "stream",
     "text": [
      "10 UCs-QBT4qkj_YiQw1ZntDO3g 427만 https://youtu.be/B-MFiegMJ3k OMG 🌸KKURA-CAT🙀 #LE_SSERAFIM #르세라핌 #SAKURA #사쿠라 #shorts 2023.12.12 64,839 197 11,739\n"
     ]
    },
    {
     "name": "stderr",
     "output_type": "stream",
     "text": [
      " 71%|███████   | 12/17 [01:33<00:37,  7.60s/it]"
     ]
    },
    {
     "name": "stdout",
     "output_type": "stream",
     "text": [
      "11 UCs-QBT4qkj_YiQw1ZntDO3g 427만 https://youtu.be/bAT8Ehz-osQ 💗채채💗랑 당당하게 걷기💎💫 #LE_SSERAFIM #르세라핌 #KIMCHAEWON #김채원 #shorts 2023.12.11 249,443 197 35,647\n"
     ]
    },
    {
     "name": "stderr",
     "output_type": "stream",
     "text": [
      " 76%|███████▋  | 13/17 [01:40<00:30,  7.63s/it]"
     ]
    },
    {
     "name": "stdout",
     "output_type": "stream",
     "text": [
      "12 UCnUAyD4t2LkvW68YrDh7fDg 228만 https://youtu.be/_0YlvuwxlC0 ˗ˋˏ #2PM #준호 선배님의 따뜻한 ☕️🚛 𝙬𝙤𝙤𝙤 𝙡𝙞𝙠𝙚 𝙞𝙩 ෆ̈ #NMIXX #KYUJIN #Soñar #Soñar_Challenge 2023.12.12 100,320 93 19,170\n"
     ]
    },
    {
     "name": "stderr",
     "output_type": "stream",
     "text": [
      " 82%|████████▏ | 14/17 [01:48<00:22,  7.65s/it]"
     ]
    },
    {
     "name": "stdout",
     "output_type": "stream",
     "text": [
      "13 UCnUAyD4t2LkvW68YrDh7fDg 228만 https://youtu.be/nYe8ffhpE3Y woo ✌️+👊=🐌 like it ☆̶ ִׂ ٭ #NMIXX #엔믹스 #해원 #HAEWON #규진 #KYUJIN #Soñar #Soñar_Challenge 2023.12.11 396,658 199 59,217\n"
     ]
    },
    {
     "name": "stderr",
     "output_type": "stream",
     "text": [
      " 88%|████████▊ | 15/17 [01:56<00:15,  7.62s/it]"
     ]
    },
    {
     "name": "stdout",
     "output_type": "stream",
     "text": [
      "14 UCnUAyD4t2LkvW68YrDh7fDg 228만 https://youtu.be/oV-w1MBedF0 sᴀɴᴛᴀ ᴛᴇʟʟ ᴍᴇ👧  ɪғ ʏᴏᴜ'ʀᴇ ʀᴇᴀʟʟʏ ᴛʜᴇʀᴇ ˗ˋ꒰🎅🏻꒱ˊ˗ #NMIXX #엔믹스 #설윤 #SULLYOON #규진 #KYUJIN #Soñar 2023.12.10 218,013 162 33,118\n"
     ]
    },
    {
     "name": "stderr",
     "output_type": "stream",
     "text": [
      " 94%|█████████▍| 16/17 [02:03<00:07,  7.61s/it]"
     ]
    },
    {
     "name": "stdout",
     "output_type": "stream",
     "text": [
      "15 UCnUAyD4t2LkvW68YrDh7fDg 228만 https://youtu.be/ZybZEZSKVR8 권민우 변호사, 로스쿨 시절 별명이 뭐였는지 알아? 🐨🐱 Come a so #Soñar 🌪#NMIXX #LILY #KYUJIN #Soñar #Soñar_Challenge 2023.12.10 293,849 252 27,148\n"
     ]
    },
    {
     "name": "stderr",
     "output_type": "stream",
     "text": [
      "100%|██████████| 17/17 [02:10<00:00,  7.71s/it]"
     ]
    },
    {
     "name": "stdout",
     "output_type": "stream",
     "text": [
      "16 UCnUAyD4t2LkvW68YrDh7fDg 228만 https://youtu.be/3TgXHq7ZPqk What a chill #Soñar🐿️ with #RedVelvet #레드벨벳 #WENDY #웬디#NMIXX #SULLYOON #Soñar_Challenge @redvelvet 2023.12.10 484,438 198 62,770\n"
     ]
    },
    {
     "name": "stderr",
     "output_type": "stream",
     "text": [
      "\n"
     ]
    }
   ],
   "source": [
    "new_vid_metric_df = crawler.get_metrics(new_vid_list_df)"
   ]
  },
  {
   "cell_type": "markdown",
   "metadata": {},
   "source": [
    "### Update video_length"
   ]
  },
  {
   "cell_type": "code",
   "execution_count": 121,
   "metadata": {},
   "outputs": [],
   "source": [
    "# Add cr, video_length, video_format column to new_vid_metric_df\n",
    "# Use the map method to create a new 'channel_name' column based on 'channel_id'\n",
    "new_vid_metric_df['cr'] = new_vid_metric_df['channel_id'].map(cr_dic)\n",
    "new_vid_metric_df['video_length']=np.nan"
   ]
  },
  {
   "cell_type": "code",
   "execution_count": 141,
   "metadata": {},
   "outputs": [
    {
     "name": "stderr",
     "output_type": "stream",
     "text": [
      "  0%|          | 0/17 [00:00<?, ?it/s]"
     ]
    },
    {
     "name": "stdout",
     "output_type": "stream",
     "text": [
      "0 https://www.youtube.com/results?search_query=https://youtu.be/5rGgmvZIfus AESPA https://youtu.be/5rGgmvZIfus\n"
     ]
    },
    {
     "name": "stderr",
     "output_type": "stream",
     "text": [
      "  6%|▌         | 1/17 [00:15<04:06, 15.40s/it]"
     ]
    },
    {
     "name": "stdout",
     "output_type": "stream",
     "text": [
      "14:58\n",
      "1 https://www.youtube.com/results?search_query=https://youtu.be/9Wmcywak2vQ AESPA https://youtu.be/9Wmcywak2vQ\n"
     ]
    },
    {
     "name": "stderr",
     "output_type": "stream",
     "text": [
      " 12%|█▏        | 2/17 [00:29<03:35, 14.35s/it]"
     ]
    },
    {
     "name": "stdout",
     "output_type": "stream",
     "text": [
      "5:57\n",
      "2 https://www.youtube.com/results?search_query=https://youtu.be/MtfHxitugU IVE https://youtu.be/-MtfHxitugU\n"
     ]
    },
    {
     "name": "stderr",
     "output_type": "stream",
     "text": [
      " 18%|█▊        | 3/17 [00:41<03:10, 13.63s/it]"
     ]
    },
    {
     "name": "stdout",
     "output_type": "stream",
     "text": [
      "10:07\n",
      "3 https://www.youtube.com/results?search_query=https://youtu.be/MwCnjaAaA7Y LESSERAFIM https://youtu.be/MwCnjaAaA7Y\n"
     ]
    },
    {
     "name": "stderr",
     "output_type": "stream",
     "text": [
      " 24%|██▎       | 4/17 [00:54<02:52, 13.27s/it]"
     ]
    },
    {
     "name": "stdout",
     "output_type": "stream",
     "text": [
      "2:03\n",
      "4 https://www.youtube.com/results?search_query=https://youtu.be/GkdjGvgx4Bk LESSERAFIM https://youtu.be/GkdjGvgx4Bk\n"
     ]
    },
    {
     "name": "stderr",
     "output_type": "stream",
     "text": [
      " 29%|██▉       | 5/17 [01:07<02:39, 13.30s/it]"
     ]
    },
    {
     "name": "stdout",
     "output_type": "stream",
     "text": [
      "12:31\n",
      "5 https://www.youtube.com/results?search_query=https://youtu.be/xu_XNASHbuU NMIXX https://youtu.be/xu_XNASHbuU\n"
     ]
    },
    {
     "name": "stderr",
     "output_type": "stream",
     "text": [
      " 35%|███▌      | 6/17 [01:20<02:24, 13.17s/it]"
     ]
    },
    {
     "name": "stdout",
     "output_type": "stream",
     "text": [
      "14:47\n",
      "6 https://www.youtube.com/results?search_query=https://youtu.be/ygV508RkQEQ NEWJEANS https://youtu.be/ygV508RkQEQ\n"
     ]
    },
    {
     "name": "stderr",
     "output_type": "stream",
     "text": [
      " 41%|████      | 7/17 [01:34<02:11, 13.19s/it]"
     ]
    },
    {
     "name": "stdout",
     "output_type": "stream",
     "text": [
      "SHORTS\n",
      "7 https://www.youtube.com/results?search_query=https://youtu.be/JDlXOp5mGws NEWJEANS https://youtu.be/JDlXOp5mGws\n"
     ]
    },
    {
     "name": "stderr",
     "output_type": "stream",
     "text": [
      " 47%|████▋     | 8/17 [01:46<01:57, 13.08s/it]"
     ]
    },
    {
     "name": "stdout",
     "output_type": "stream",
     "text": [
      "SHORTS\n",
      "8 https://www.youtube.com/results?search_query=https://youtu.be/72ARETXlWqI AESPA https://youtu.be/72ARETXlWqI\n"
     ]
    },
    {
     "name": "stderr",
     "output_type": "stream",
     "text": [
      " 53%|█████▎    | 9/17 [01:59<01:43, 12.99s/it]"
     ]
    },
    {
     "name": "stdout",
     "output_type": "stream",
     "text": [
      "SHORTS\n",
      "9 https://www.youtube.com/results?search_query=https://youtu.be/fRUmGjnmLxc AESPA https://youtu.be/fRUmGjnmLxc\n"
     ]
    },
    {
     "name": "stderr",
     "output_type": "stream",
     "text": [
      " 59%|█████▉    | 10/17 [02:12<01:30, 12.98s/it]"
     ]
    },
    {
     "name": "stdout",
     "output_type": "stream",
     "text": [
      "SHORTS\n",
      "10 https://www.youtube.com/results?search_query=https://youtu.be/B-MFiegMJ3k LESSERAFIM https://youtu.be/B-MFiegMJ3k\n"
     ]
    },
    {
     "name": "stderr",
     "output_type": "stream",
     "text": [
      " 65%|██████▍   | 11/17 [02:25<01:17, 12.99s/it]"
     ]
    },
    {
     "name": "stdout",
     "output_type": "stream",
     "text": [
      "SHORTS\n",
      "11 https://www.youtube.com/results?search_query=https://youtu.be/bAT8Ehz-osQ LESSERAFIM https://youtu.be/bAT8Ehz-osQ\n"
     ]
    },
    {
     "name": "stderr",
     "output_type": "stream",
     "text": [
      " 71%|███████   | 12/17 [02:38<01:04, 12.92s/it]"
     ]
    },
    {
     "name": "stdout",
     "output_type": "stream",
     "text": [
      "SHORTS\n",
      "12 https://www.youtube.com/results?search_query=https://youtu.be/0YlvuwxlC0 NMIXX https://youtu.be/_0YlvuwxlC0\n"
     ]
    },
    {
     "name": "stderr",
     "output_type": "stream",
     "text": [
      " 76%|███████▋  | 13/17 [02:51<00:51, 12.85s/it]"
     ]
    },
    {
     "name": "stdout",
     "output_type": "stream",
     "text": [
      "13 https://www.youtube.com/results?search_query=https://youtu.be/nYe8ffhpE3Y NMIXX https://youtu.be/nYe8ffhpE3Y\n"
     ]
    },
    {
     "name": "stderr",
     "output_type": "stream",
     "text": [
      " 82%|████████▏ | 14/17 [03:03<00:38, 12.87s/it]"
     ]
    },
    {
     "name": "stdout",
     "output_type": "stream",
     "text": [
      "SHORTS\n",
      "14 https://www.youtube.com/results?search_query=https://youtu.be/oV-w1MBedF0 NMIXX https://youtu.be/oV-w1MBedF0\n"
     ]
    },
    {
     "name": "stderr",
     "output_type": "stream",
     "text": [
      " 88%|████████▊ | 15/17 [03:16<00:25, 12.82s/it]"
     ]
    },
    {
     "name": "stdout",
     "output_type": "stream",
     "text": [
      "SHORTS\n",
      "15 https://www.youtube.com/results?search_query=https://youtu.be/ZybZEZSKVR8 NMIXX https://youtu.be/ZybZEZSKVR8\n"
     ]
    },
    {
     "name": "stderr",
     "output_type": "stream",
     "text": [
      " 94%|█████████▍| 16/17 [03:29<00:12, 12.82s/it]"
     ]
    },
    {
     "name": "stdout",
     "output_type": "stream",
     "text": [
      "SHORTS\n",
      "16 https://www.youtube.com/results?search_query=https://youtu.be/3TgXHq7ZPqk NMIXX https://youtu.be/3TgXHq7ZPqk\n"
     ]
    },
    {
     "name": "stderr",
     "output_type": "stream",
     "text": [
      "100%|██████████| 17/17 [03:42<00:00, 13.08s/it]"
     ]
    },
    {
     "name": "stdout",
     "output_type": "stream",
     "text": [
      "SHORTS\n"
     ]
    },
    {
     "name": "stderr",
     "output_type": "stream",
     "text": [
      "\n"
     ]
    }
   ],
   "source": [
    "final_vid_metric_df = crawler.get_vid_length(new_vid_metric_df)"
   ]
  },
  {
   "cell_type": "code",
   "execution_count": 157,
   "metadata": {},
   "outputs": [
    {
     "data": {
      "text/html": [
       "<div>\n",
       "<style scoped>\n",
       "    .dataframe tbody tr th:only-of-type {\n",
       "        vertical-align: middle;\n",
       "    }\n",
       "\n",
       "    .dataframe tbody tr th {\n",
       "        vertical-align: top;\n",
       "    }\n",
       "\n",
       "    .dataframe thead th {\n",
       "        text-align: right;\n",
       "    }\n",
       "</style>\n",
       "<table border=\"1\" class=\"dataframe\">\n",
       "  <thead>\n",
       "    <tr style=\"text-align: right;\">\n",
       "      <th></th>\n",
       "      <th>video_id</th>\n",
       "      <th>cr</th>\n",
       "      <th>subscriber</th>\n",
       "      <th>channel_id</th>\n",
       "      <th>video_url</th>\n",
       "      <th>title</th>\n",
       "      <th>upload_date</th>\n",
       "      <th>view</th>\n",
       "      <th>comment</th>\n",
       "      <th>like</th>\n",
       "      <th>video_length</th>\n",
       "    </tr>\n",
       "  </thead>\n",
       "  <tbody>\n",
       "    <tr>\n",
       "      <th>0</th>\n",
       "      <td>5rGgmvZIfus</td>\n",
       "      <td>AESPA</td>\n",
       "      <td>5,080,000</td>\n",
       "      <td>UC9GtSLeksfK4yuJ_g1lgQbg</td>\n",
       "      <td>https://youtu.be/5rGgmvZIfus</td>\n",
       "      <td>되게 꽉 차게 하루를 보냈던 것 같아요🐶🍀👚 | NINGNING in Atlanta...</td>\n",
       "      <td>2023-12-11</td>\n",
       "      <td>124,646</td>\n",
       "      <td>662</td>\n",
       "      <td>12,150</td>\n",
       "      <td>14:58</td>\n",
       "    </tr>\n",
       "    <tr>\n",
       "      <th>1</th>\n",
       "      <td>9Wmcywak2vQ</td>\n",
       "      <td>AESPA</td>\n",
       "      <td>5,080,000</td>\n",
       "      <td>UC9GtSLeksfK4yuJ_g1lgQbg</td>\n",
       "      <td>https://youtu.be/9Wmcywak2vQ</td>\n",
       "      <td>첫 개인화보를 오늘 찍었는데요😎🖤 | aespa GISELLE W Korea Pho...</td>\n",
       "      <td>2023-12-10</td>\n",
       "      <td>58,614</td>\n",
       "      <td>549</td>\n",
       "      <td>8,582</td>\n",
       "      <td>5:57</td>\n",
       "    </tr>\n",
       "    <tr>\n",
       "      <th>2</th>\n",
       "      <td>-MtfHxitugU</td>\n",
       "      <td>IVE</td>\n",
       "      <td>3,170,000</td>\n",
       "      <td>UC-Fnix71vRP64WXeo0ikd0Q</td>\n",
       "      <td>https://youtu.be/-MtfHxitugU</td>\n",
       "      <td>[IVE ON] 'I'VE MINE' JAPAN PROMOTION BEHIND #1</td>\n",
       "      <td>2023-12-10</td>\n",
       "      <td>96,082</td>\n",
       "      <td>342</td>\n",
       "      <td>7,443</td>\n",
       "      <td>10:07</td>\n",
       "    </tr>\n",
       "    <tr>\n",
       "      <th>3</th>\n",
       "      <td>MwCnjaAaA7Y</td>\n",
       "      <td>LESSERAFIM</td>\n",
       "      <td>4,270,000</td>\n",
       "      <td>UCs-QBT4qkj_YiQw1ZntDO3g</td>\n",
       "      <td>https://youtu.be/MwCnjaAaA7Y</td>\n",
       "      <td>[LE▶️PLAY] 다꾸라 초콜릿 VS 아기 밀크초콜릿🍫  |  꾸라은즈의 대결⁉️</td>\n",
       "      <td>2023-12-12</td>\n",
       "      <td>36,095</td>\n",
       "      <td>395</td>\n",
       "      <td>6,196</td>\n",
       "      <td>2:03</td>\n",
       "    </tr>\n",
       "    <tr>\n",
       "      <th>4</th>\n",
       "      <td>GkdjGvgx4Bk</td>\n",
       "      <td>LESSERAFIM</td>\n",
       "      <td>4,270,000</td>\n",
       "      <td>UCs-QBT4qkj_YiQw1ZntDO3g</td>\n",
       "      <td>https://youtu.be/GkdjGvgx4Bk</td>\n",
       "      <td>[EPISODE] KIM CHAEWON ‘짐빔 하이볼’ Ads Shoot Sketch</td>\n",
       "      <td>2023-12-11</td>\n",
       "      <td>112,963</td>\n",
       "      <td>529</td>\n",
       "      <td>10,090</td>\n",
       "      <td>12:31</td>\n",
       "    </tr>\n",
       "    <tr>\n",
       "      <th>5</th>\n",
       "      <td>xu_XNASHbuU</td>\n",
       "      <td>NMIXX</td>\n",
       "      <td>2,280,000</td>\n",
       "      <td>UCnUAyD4t2LkvW68YrDh7fDg</td>\n",
       "      <td>https://youtu.be/xu_XNASHbuU</td>\n",
       "      <td>NMIXX(엔믹스) ‘Soñar (Breaker)’ Recording Behind ...</td>\n",
       "      <td>2023-12-11</td>\n",
       "      <td>198,390</td>\n",
       "      <td>699</td>\n",
       "      <td>19,493</td>\n",
       "      <td>14:47</td>\n",
       "    </tr>\n",
       "    <tr>\n",
       "      <th>6</th>\n",
       "      <td>ygV508RkQEQ</td>\n",
       "      <td>NEWJEANS</td>\n",
       "      <td>6,240,000</td>\n",
       "      <td>UCMki_UkHb4qSc0qyEcOHHJw</td>\n",
       "      <td>https://youtu.be/ygV508RkQEQ</td>\n",
       "      <td>📦 I'm waiting for you #NewJeans #뉴진스 #SeasonsG...</td>\n",
       "      <td>2023-12-11</td>\n",
       "      <td>88,648</td>\n",
       "      <td>699</td>\n",
       "      <td>22,324</td>\n",
       "      <td>SHORTS</td>\n",
       "    </tr>\n",
       "    <tr>\n",
       "      <th>7</th>\n",
       "      <td>JDlXOp5mGws</td>\n",
       "      <td>NEWJEANS</td>\n",
       "      <td>6,240,000</td>\n",
       "      <td>UCMki_UkHb4qSc0qyEcOHHJw</td>\n",
       "      <td>https://youtu.be/JDlXOp5mGws</td>\n",
       "      <td>📦 I'm waiting for you #NewJeans #뉴진스 #SeasonsG...</td>\n",
       "      <td>2023-12-11</td>\n",
       "      <td>90,950</td>\n",
       "      <td>699</td>\n",
       "      <td>23,132</td>\n",
       "      <td>SHORTS</td>\n",
       "    </tr>\n",
       "    <tr>\n",
       "      <th>8</th>\n",
       "      <td>72ARETXlWqI</td>\n",
       "      <td>AESPA</td>\n",
       "      <td>5,080,000</td>\n",
       "      <td>UC9GtSLeksfK4yuJ_g1lgQbg</td>\n",
       "      <td>https://youtu.be/72ARETXlWqI</td>\n",
       "      <td>크리스마스 선물로 #audiz 어떤데?#aespa #에스파 #KARINA #카리나 ...</td>\n",
       "      <td>2023-12-11</td>\n",
       "      <td>384,967</td>\n",
       "      <td>427</td>\n",
       "      <td>64,633</td>\n",
       "      <td>SHORTS</td>\n",
       "    </tr>\n",
       "    <tr>\n",
       "      <th>9</th>\n",
       "      <td>fRUmGjnmLxc</td>\n",
       "      <td>AESPA</td>\n",
       "      <td>5,080,000</td>\n",
       "      <td>UC9GtSLeksfK4yuJ_g1lgQbg</td>\n",
       "      <td>https://youtu.be/fRUmGjnmLxc</td>\n",
       "      <td>#첫눈 에 널 사랑하게 됐고 영원할 거라는 걸 알고 있었어🔮#첫눈챌린지 ❄️ #ae...</td>\n",
       "      <td>2023-12-11</td>\n",
       "      <td>561,034</td>\n",
       "      <td>427</td>\n",
       "      <td>59,896</td>\n",
       "      <td>SHORTS</td>\n",
       "    </tr>\n",
       "    <tr>\n",
       "      <th>10</th>\n",
       "      <td>B-MFiegMJ3k</td>\n",
       "      <td>LESSERAFIM</td>\n",
       "      <td>4,270,000</td>\n",
       "      <td>UCs-QBT4qkj_YiQw1ZntDO3g</td>\n",
       "      <td>https://youtu.be/B-MFiegMJ3k</td>\n",
       "      <td>OMG 🌸KKURA-CAT🙀 #LE_SSERAFIM #르세라핌 #SAKURA #사쿠...</td>\n",
       "      <td>2023-12-12</td>\n",
       "      <td>64,839</td>\n",
       "      <td>197</td>\n",
       "      <td>11,739</td>\n",
       "      <td>SHORTS</td>\n",
       "    </tr>\n",
       "    <tr>\n",
       "      <th>11</th>\n",
       "      <td>bAT8Ehz-osQ</td>\n",
       "      <td>LESSERAFIM</td>\n",
       "      <td>4,270,000</td>\n",
       "      <td>UCs-QBT4qkj_YiQw1ZntDO3g</td>\n",
       "      <td>https://youtu.be/bAT8Ehz-osQ</td>\n",
       "      <td>💗채채💗랑 당당하게 걷기💎💫 #LE_SSERAFIM #르세라핌 #KIMCHAEWON...</td>\n",
       "      <td>2023-12-11</td>\n",
       "      <td>249,443</td>\n",
       "      <td>197</td>\n",
       "      <td>35,647</td>\n",
       "      <td>SHORTS</td>\n",
       "    </tr>\n",
       "    <tr>\n",
       "      <th>12</th>\n",
       "      <td>_0YlvuwxlC0</td>\n",
       "      <td>NMIXX</td>\n",
       "      <td>2,280,000</td>\n",
       "      <td>UCnUAyD4t2LkvW68YrDh7fDg</td>\n",
       "      <td>https://youtu.be/_0YlvuwxlC0</td>\n",
       "      <td>˗ˋˏ #2PM #준호 선배님의 따뜻한 ☕️🚛 𝙬𝙤𝙤𝙤 𝙡𝙞𝙠𝙚 𝙞𝙩 ෆ̈ #NMI...</td>\n",
       "      <td>2023-12-12</td>\n",
       "      <td>100,320</td>\n",
       "      <td>93</td>\n",
       "      <td>19,170</td>\n",
       "      <td>NaN</td>\n",
       "    </tr>\n",
       "    <tr>\n",
       "      <th>13</th>\n",
       "      <td>nYe8ffhpE3Y</td>\n",
       "      <td>NMIXX</td>\n",
       "      <td>2,280,000</td>\n",
       "      <td>UCnUAyD4t2LkvW68YrDh7fDg</td>\n",
       "      <td>https://youtu.be/nYe8ffhpE3Y</td>\n",
       "      <td>woo ✌️+👊=🐌 like it ☆̶ ִׂ ٭ #NMIXX #엔믹스 #해원 #HA...</td>\n",
       "      <td>2023-12-11</td>\n",
       "      <td>396,658</td>\n",
       "      <td>199</td>\n",
       "      <td>59,217</td>\n",
       "      <td>SHORTS</td>\n",
       "    </tr>\n",
       "    <tr>\n",
       "      <th>14</th>\n",
       "      <td>oV-w1MBedF0</td>\n",
       "      <td>NMIXX</td>\n",
       "      <td>2,280,000</td>\n",
       "      <td>UCnUAyD4t2LkvW68YrDh7fDg</td>\n",
       "      <td>https://youtu.be/oV-w1MBedF0</td>\n",
       "      <td>sᴀɴᴛᴀ ᴛᴇʟʟ ᴍᴇ👧  ɪғ ʏᴏᴜ'ʀᴇ ʀᴇᴀʟʟʏ ᴛʜᴇʀᴇ ˗ˋ꒰🎅🏻꒱ˊ...</td>\n",
       "      <td>2023-12-10</td>\n",
       "      <td>218,013</td>\n",
       "      <td>162</td>\n",
       "      <td>33,118</td>\n",
       "      <td>SHORTS</td>\n",
       "    </tr>\n",
       "    <tr>\n",
       "      <th>15</th>\n",
       "      <td>ZybZEZSKVR8</td>\n",
       "      <td>NMIXX</td>\n",
       "      <td>2,280,000</td>\n",
       "      <td>UCnUAyD4t2LkvW68YrDh7fDg</td>\n",
       "      <td>https://youtu.be/ZybZEZSKVR8</td>\n",
       "      <td>권민우 변호사, 로스쿨 시절 별명이 뭐였는지 알아? 🐨🐱 Come a so #Soñ...</td>\n",
       "      <td>2023-12-10</td>\n",
       "      <td>293,849</td>\n",
       "      <td>252</td>\n",
       "      <td>27,148</td>\n",
       "      <td>SHORTS</td>\n",
       "    </tr>\n",
       "    <tr>\n",
       "      <th>16</th>\n",
       "      <td>3TgXHq7ZPqk</td>\n",
       "      <td>NMIXX</td>\n",
       "      <td>2,280,000</td>\n",
       "      <td>UCnUAyD4t2LkvW68YrDh7fDg</td>\n",
       "      <td>https://youtu.be/3TgXHq7ZPqk</td>\n",
       "      <td>What a chill #Soñar🐿️ with #RedVelvet #레드벨벳 #W...</td>\n",
       "      <td>2023-12-10</td>\n",
       "      <td>484,438</td>\n",
       "      <td>198</td>\n",
       "      <td>62,770</td>\n",
       "      <td>SHORTS</td>\n",
       "    </tr>\n",
       "  </tbody>\n",
       "</table>\n",
       "</div>"
      ],
      "text/plain": [
       "       video_id          cr subscriber                channel_id   \n",
       "0   5rGgmvZIfus       AESPA  5,080,000  UC9GtSLeksfK4yuJ_g1lgQbg  \\\n",
       "1   9Wmcywak2vQ       AESPA  5,080,000  UC9GtSLeksfK4yuJ_g1lgQbg   \n",
       "2   -MtfHxitugU         IVE  3,170,000  UC-Fnix71vRP64WXeo0ikd0Q   \n",
       "3   MwCnjaAaA7Y  LESSERAFIM  4,270,000  UCs-QBT4qkj_YiQw1ZntDO3g   \n",
       "4   GkdjGvgx4Bk  LESSERAFIM  4,270,000  UCs-QBT4qkj_YiQw1ZntDO3g   \n",
       "5   xu_XNASHbuU       NMIXX  2,280,000  UCnUAyD4t2LkvW68YrDh7fDg   \n",
       "6   ygV508RkQEQ    NEWJEANS  6,240,000  UCMki_UkHb4qSc0qyEcOHHJw   \n",
       "7   JDlXOp5mGws    NEWJEANS  6,240,000  UCMki_UkHb4qSc0qyEcOHHJw   \n",
       "8   72ARETXlWqI       AESPA  5,080,000  UC9GtSLeksfK4yuJ_g1lgQbg   \n",
       "9   fRUmGjnmLxc       AESPA  5,080,000  UC9GtSLeksfK4yuJ_g1lgQbg   \n",
       "10  B-MFiegMJ3k  LESSERAFIM  4,270,000  UCs-QBT4qkj_YiQw1ZntDO3g   \n",
       "11  bAT8Ehz-osQ  LESSERAFIM  4,270,000  UCs-QBT4qkj_YiQw1ZntDO3g   \n",
       "12  _0YlvuwxlC0       NMIXX  2,280,000  UCnUAyD4t2LkvW68YrDh7fDg   \n",
       "13  nYe8ffhpE3Y       NMIXX  2,280,000  UCnUAyD4t2LkvW68YrDh7fDg   \n",
       "14  oV-w1MBedF0       NMIXX  2,280,000  UCnUAyD4t2LkvW68YrDh7fDg   \n",
       "15  ZybZEZSKVR8       NMIXX  2,280,000  UCnUAyD4t2LkvW68YrDh7fDg   \n",
       "16  3TgXHq7ZPqk       NMIXX  2,280,000  UCnUAyD4t2LkvW68YrDh7fDg   \n",
       "\n",
       "                       video_url   \n",
       "0   https://youtu.be/5rGgmvZIfus  \\\n",
       "1   https://youtu.be/9Wmcywak2vQ   \n",
       "2   https://youtu.be/-MtfHxitugU   \n",
       "3   https://youtu.be/MwCnjaAaA7Y   \n",
       "4   https://youtu.be/GkdjGvgx4Bk   \n",
       "5   https://youtu.be/xu_XNASHbuU   \n",
       "6   https://youtu.be/ygV508RkQEQ   \n",
       "7   https://youtu.be/JDlXOp5mGws   \n",
       "8   https://youtu.be/72ARETXlWqI   \n",
       "9   https://youtu.be/fRUmGjnmLxc   \n",
       "10  https://youtu.be/B-MFiegMJ3k   \n",
       "11  https://youtu.be/bAT8Ehz-osQ   \n",
       "12  https://youtu.be/_0YlvuwxlC0   \n",
       "13  https://youtu.be/nYe8ffhpE3Y   \n",
       "14  https://youtu.be/oV-w1MBedF0   \n",
       "15  https://youtu.be/ZybZEZSKVR8   \n",
       "16  https://youtu.be/3TgXHq7ZPqk   \n",
       "\n",
       "                                                title upload_date     view   \n",
       "0   되게 꽉 차게 하루를 보냈던 것 같아요🐶🍀👚 | NINGNING in Atlanta...  2023-12-11  124,646  \\\n",
       "1   첫 개인화보를 오늘 찍었는데요😎🖤 | aespa GISELLE W Korea Pho...  2023-12-10   58,614   \n",
       "2      [IVE ON] 'I'VE MINE' JAPAN PROMOTION BEHIND #1  2023-12-10   96,082   \n",
       "3      [LE▶️PLAY] 다꾸라 초콜릿 VS 아기 밀크초콜릿🍫  |  꾸라은즈의 대결⁉️  2023-12-12   36,095   \n",
       "4     [EPISODE] KIM CHAEWON ‘짐빔 하이볼’ Ads Shoot Sketch  2023-12-11  112,963   \n",
       "5   NMIXX(엔믹스) ‘Soñar (Breaker)’ Recording Behind ...  2023-12-11  198,390   \n",
       "6   📦 I'm waiting for you #NewJeans #뉴진스 #SeasonsG...  2023-12-11   88,648   \n",
       "7   📦 I'm waiting for you #NewJeans #뉴진스 #SeasonsG...  2023-12-11   90,950   \n",
       "8   크리스마스 선물로 #audiz 어떤데?#aespa #에스파 #KARINA #카리나 ...  2023-12-11  384,967   \n",
       "9   #첫눈 에 널 사랑하게 됐고 영원할 거라는 걸 알고 있었어🔮#첫눈챌린지 ❄️ #ae...  2023-12-11  561,034   \n",
       "10  OMG 🌸KKURA-CAT🙀 #LE_SSERAFIM #르세라핌 #SAKURA #사쿠...  2023-12-12   64,839   \n",
       "11  💗채채💗랑 당당하게 걷기💎💫 #LE_SSERAFIM #르세라핌 #KIMCHAEWON...  2023-12-11  249,443   \n",
       "12  ˗ˋˏ #2PM #준호 선배님의 따뜻한 ☕️🚛 𝙬𝙤𝙤𝙤 𝙡𝙞𝙠𝙚 𝙞𝙩 ෆ̈ #NMI...  2023-12-12  100,320   \n",
       "13  woo ✌️+👊=🐌 like it ☆̶ ִׂ ٭ #NMIXX #엔믹스 #해원 #HA...  2023-12-11  396,658   \n",
       "14  sᴀɴᴛᴀ ᴛᴇʟʟ ᴍᴇ👧  ɪғ ʏᴏᴜ'ʀᴇ ʀᴇᴀʟʟʏ ᴛʜᴇʀᴇ ˗ˋ꒰🎅🏻꒱ˊ...  2023-12-10  218,013   \n",
       "15  권민우 변호사, 로스쿨 시절 별명이 뭐였는지 알아? 🐨🐱 Come a so #Soñ...  2023-12-10  293,849   \n",
       "16  What a chill #Soñar🐿️ with #RedVelvet #레드벨벳 #W...  2023-12-10  484,438   \n",
       "\n",
       "   comment    like video_length  \n",
       "0      662  12,150        14:58  \n",
       "1      549   8,582         5:57  \n",
       "2      342   7,443        10:07  \n",
       "3      395   6,196         2:03  \n",
       "4      529  10,090        12:31  \n",
       "5      699  19,493        14:47  \n",
       "6      699  22,324       SHORTS  \n",
       "7      699  23,132       SHORTS  \n",
       "8      427  64,633       SHORTS  \n",
       "9      427  59,896       SHORTS  \n",
       "10     197  11,739       SHORTS  \n",
       "11     197  35,647       SHORTS  \n",
       "12      93  19,170          NaN  \n",
       "13     199  59,217       SHORTS  \n",
       "14     162  33,118       SHORTS  \n",
       "15     252  27,148       SHORTS  \n",
       "16     198  62,770       SHORTS  "
      ]
     },
     "execution_count": 157,
     "metadata": {},
     "output_type": "execute_result"
    }
   ],
   "source": [
    "final_vid_metric_df"
   ]
  },
  {
   "cell_type": "code",
   "execution_count": 160,
   "metadata": {},
   "outputs": [],
   "source": [
    "# # merge with new_vid_list_df to get video_format values\n",
    "final_vid_metric_df = pd.merge(final_vid_metric_df, new_vid_list_df[['video_url','video_format']], how='left', on='video_url')\n",
    "\n",
    "# Reorder the df columns\n",
    "final_vid_metric_df = final_vid_metric_df[['video_id', 'cr', 'subscriber','channel_id','video_url', 'title',\n",
    "       'upload_date', 'view', 'comment', 'like', 'video_length', 'video_format']]"
   ]
  },
  {
   "cell_type": "code",
   "execution_count": 161,
   "metadata": {},
   "outputs": [
    {
     "data": {
      "text/html": [
       "<div>\n",
       "<style scoped>\n",
       "    .dataframe tbody tr th:only-of-type {\n",
       "        vertical-align: middle;\n",
       "    }\n",
       "\n",
       "    .dataframe tbody tr th {\n",
       "        vertical-align: top;\n",
       "    }\n",
       "\n",
       "    .dataframe thead th {\n",
       "        text-align: right;\n",
       "    }\n",
       "</style>\n",
       "<table border=\"1\" class=\"dataframe\">\n",
       "  <thead>\n",
       "    <tr style=\"text-align: right;\">\n",
       "      <th></th>\n",
       "      <th>video_id</th>\n",
       "      <th>cr</th>\n",
       "      <th>subscriber</th>\n",
       "      <th>channel_id</th>\n",
       "      <th>video_url</th>\n",
       "      <th>title</th>\n",
       "      <th>upload_date</th>\n",
       "      <th>view</th>\n",
       "      <th>comment</th>\n",
       "      <th>like</th>\n",
       "      <th>video_length</th>\n",
       "      <th>video_format</th>\n",
       "    </tr>\n",
       "  </thead>\n",
       "  <tbody>\n",
       "    <tr>\n",
       "      <th>0</th>\n",
       "      <td>5rGgmvZIfus</td>\n",
       "      <td>AESPA</td>\n",
       "      <td>5,080,000</td>\n",
       "      <td>UC9GtSLeksfK4yuJ_g1lgQbg</td>\n",
       "      <td>https://youtu.be/5rGgmvZIfus</td>\n",
       "      <td>되게 꽉 차게 하루를 보냈던 것 같아요🐶🍀👚 | NINGNING in Atlanta...</td>\n",
       "      <td>2023-12-11</td>\n",
       "      <td>124,646</td>\n",
       "      <td>662</td>\n",
       "      <td>12,150</td>\n",
       "      <td>14:58</td>\n",
       "      <td>VOD</td>\n",
       "    </tr>\n",
       "    <tr>\n",
       "      <th>1</th>\n",
       "      <td>9Wmcywak2vQ</td>\n",
       "      <td>AESPA</td>\n",
       "      <td>5,080,000</td>\n",
       "      <td>UC9GtSLeksfK4yuJ_g1lgQbg</td>\n",
       "      <td>https://youtu.be/9Wmcywak2vQ</td>\n",
       "      <td>첫 개인화보를 오늘 찍었는데요😎🖤 | aespa GISELLE W Korea Pho...</td>\n",
       "      <td>2023-12-10</td>\n",
       "      <td>58,614</td>\n",
       "      <td>549</td>\n",
       "      <td>8,582</td>\n",
       "      <td>5:57</td>\n",
       "      <td>VOD</td>\n",
       "    </tr>\n",
       "    <tr>\n",
       "      <th>2</th>\n",
       "      <td>-MtfHxitugU</td>\n",
       "      <td>IVE</td>\n",
       "      <td>3,170,000</td>\n",
       "      <td>UC-Fnix71vRP64WXeo0ikd0Q</td>\n",
       "      <td>https://youtu.be/-MtfHxitugU</td>\n",
       "      <td>[IVE ON] 'I'VE MINE' JAPAN PROMOTION BEHIND #1</td>\n",
       "      <td>2023-12-10</td>\n",
       "      <td>96,082</td>\n",
       "      <td>342</td>\n",
       "      <td>7,443</td>\n",
       "      <td>10:07</td>\n",
       "      <td>VOD</td>\n",
       "    </tr>\n",
       "    <tr>\n",
       "      <th>3</th>\n",
       "      <td>MwCnjaAaA7Y</td>\n",
       "      <td>LESSERAFIM</td>\n",
       "      <td>4,270,000</td>\n",
       "      <td>UCs-QBT4qkj_YiQw1ZntDO3g</td>\n",
       "      <td>https://youtu.be/MwCnjaAaA7Y</td>\n",
       "      <td>[LE▶️PLAY] 다꾸라 초콜릿 VS 아기 밀크초콜릿🍫  |  꾸라은즈의 대결⁉️</td>\n",
       "      <td>2023-12-12</td>\n",
       "      <td>36,095</td>\n",
       "      <td>395</td>\n",
       "      <td>6,196</td>\n",
       "      <td>2:03</td>\n",
       "      <td>VOD</td>\n",
       "    </tr>\n",
       "    <tr>\n",
       "      <th>4</th>\n",
       "      <td>GkdjGvgx4Bk</td>\n",
       "      <td>LESSERAFIM</td>\n",
       "      <td>4,270,000</td>\n",
       "      <td>UCs-QBT4qkj_YiQw1ZntDO3g</td>\n",
       "      <td>https://youtu.be/GkdjGvgx4Bk</td>\n",
       "      <td>[EPISODE] KIM CHAEWON ‘짐빔 하이볼’ Ads Shoot Sketch</td>\n",
       "      <td>2023-12-11</td>\n",
       "      <td>112,963</td>\n",
       "      <td>529</td>\n",
       "      <td>10,090</td>\n",
       "      <td>12:31</td>\n",
       "      <td>VOD</td>\n",
       "    </tr>\n",
       "    <tr>\n",
       "      <th>5</th>\n",
       "      <td>xu_XNASHbuU</td>\n",
       "      <td>NMIXX</td>\n",
       "      <td>2,280,000</td>\n",
       "      <td>UCnUAyD4t2LkvW68YrDh7fDg</td>\n",
       "      <td>https://youtu.be/xu_XNASHbuU</td>\n",
       "      <td>NMIXX(엔믹스) ‘Soñar (Breaker)’ Recording Behind ...</td>\n",
       "      <td>2023-12-11</td>\n",
       "      <td>198,390</td>\n",
       "      <td>699</td>\n",
       "      <td>19,493</td>\n",
       "      <td>14:47</td>\n",
       "      <td>VOD</td>\n",
       "    </tr>\n",
       "    <tr>\n",
       "      <th>6</th>\n",
       "      <td>ygV508RkQEQ</td>\n",
       "      <td>NEWJEANS</td>\n",
       "      <td>6,240,000</td>\n",
       "      <td>UCMki_UkHb4qSc0qyEcOHHJw</td>\n",
       "      <td>https://youtu.be/ygV508RkQEQ</td>\n",
       "      <td>📦 I'm waiting for you #NewJeans #뉴진스 #SeasonsG...</td>\n",
       "      <td>2023-12-11</td>\n",
       "      <td>88,648</td>\n",
       "      <td>699</td>\n",
       "      <td>22,324</td>\n",
       "      <td>SHORTS</td>\n",
       "      <td>VOD</td>\n",
       "    </tr>\n",
       "    <tr>\n",
       "      <th>7</th>\n",
       "      <td>JDlXOp5mGws</td>\n",
       "      <td>NEWJEANS</td>\n",
       "      <td>6,240,000</td>\n",
       "      <td>UCMki_UkHb4qSc0qyEcOHHJw</td>\n",
       "      <td>https://youtu.be/JDlXOp5mGws</td>\n",
       "      <td>📦 I'm waiting for you #NewJeans #뉴진스 #SeasonsG...</td>\n",
       "      <td>2023-12-11</td>\n",
       "      <td>90,950</td>\n",
       "      <td>699</td>\n",
       "      <td>23,132</td>\n",
       "      <td>SHORTS</td>\n",
       "      <td>VOD</td>\n",
       "    </tr>\n",
       "    <tr>\n",
       "      <th>8</th>\n",
       "      <td>72ARETXlWqI</td>\n",
       "      <td>AESPA</td>\n",
       "      <td>5,080,000</td>\n",
       "      <td>UC9GtSLeksfK4yuJ_g1lgQbg</td>\n",
       "      <td>https://youtu.be/72ARETXlWqI</td>\n",
       "      <td>크리스마스 선물로 #audiz 어떤데?#aespa #에스파 #KARINA #카리나 ...</td>\n",
       "      <td>2023-12-11</td>\n",
       "      <td>384,967</td>\n",
       "      <td>427</td>\n",
       "      <td>64,633</td>\n",
       "      <td>SHORTS</td>\n",
       "      <td>SHORTS</td>\n",
       "    </tr>\n",
       "    <tr>\n",
       "      <th>9</th>\n",
       "      <td>fRUmGjnmLxc</td>\n",
       "      <td>AESPA</td>\n",
       "      <td>5,080,000</td>\n",
       "      <td>UC9GtSLeksfK4yuJ_g1lgQbg</td>\n",
       "      <td>https://youtu.be/fRUmGjnmLxc</td>\n",
       "      <td>#첫눈 에 널 사랑하게 됐고 영원할 거라는 걸 알고 있었어🔮#첫눈챌린지 ❄️ #ae...</td>\n",
       "      <td>2023-12-11</td>\n",
       "      <td>561,034</td>\n",
       "      <td>427</td>\n",
       "      <td>59,896</td>\n",
       "      <td>SHORTS</td>\n",
       "      <td>SHORTS</td>\n",
       "    </tr>\n",
       "    <tr>\n",
       "      <th>10</th>\n",
       "      <td>B-MFiegMJ3k</td>\n",
       "      <td>LESSERAFIM</td>\n",
       "      <td>4,270,000</td>\n",
       "      <td>UCs-QBT4qkj_YiQw1ZntDO3g</td>\n",
       "      <td>https://youtu.be/B-MFiegMJ3k</td>\n",
       "      <td>OMG 🌸KKURA-CAT🙀 #LE_SSERAFIM #르세라핌 #SAKURA #사쿠...</td>\n",
       "      <td>2023-12-12</td>\n",
       "      <td>64,839</td>\n",
       "      <td>197</td>\n",
       "      <td>11,739</td>\n",
       "      <td>SHORTS</td>\n",
       "      <td>SHORTS</td>\n",
       "    </tr>\n",
       "    <tr>\n",
       "      <th>11</th>\n",
       "      <td>bAT8Ehz-osQ</td>\n",
       "      <td>LESSERAFIM</td>\n",
       "      <td>4,270,000</td>\n",
       "      <td>UCs-QBT4qkj_YiQw1ZntDO3g</td>\n",
       "      <td>https://youtu.be/bAT8Ehz-osQ</td>\n",
       "      <td>💗채채💗랑 당당하게 걷기💎💫 #LE_SSERAFIM #르세라핌 #KIMCHAEWON...</td>\n",
       "      <td>2023-12-11</td>\n",
       "      <td>249,443</td>\n",
       "      <td>197</td>\n",
       "      <td>35,647</td>\n",
       "      <td>SHORTS</td>\n",
       "      <td>SHORTS</td>\n",
       "    </tr>\n",
       "    <tr>\n",
       "      <th>12</th>\n",
       "      <td>_0YlvuwxlC0</td>\n",
       "      <td>NMIXX</td>\n",
       "      <td>2,280,000</td>\n",
       "      <td>UCnUAyD4t2LkvW68YrDh7fDg</td>\n",
       "      <td>https://youtu.be/_0YlvuwxlC0</td>\n",
       "      <td>˗ˋˏ #2PM #준호 선배님의 따뜻한 ☕️🚛 𝙬𝙤𝙤𝙤 𝙡𝙞𝙠𝙚 𝙞𝙩 ෆ̈ #NMI...</td>\n",
       "      <td>2023-12-12</td>\n",
       "      <td>100,320</td>\n",
       "      <td>93</td>\n",
       "      <td>19,170</td>\n",
       "      <td>NaN</td>\n",
       "      <td>SHORTS</td>\n",
       "    </tr>\n",
       "    <tr>\n",
       "      <th>13</th>\n",
       "      <td>nYe8ffhpE3Y</td>\n",
       "      <td>NMIXX</td>\n",
       "      <td>2,280,000</td>\n",
       "      <td>UCnUAyD4t2LkvW68YrDh7fDg</td>\n",
       "      <td>https://youtu.be/nYe8ffhpE3Y</td>\n",
       "      <td>woo ✌️+👊=🐌 like it ☆̶ ִׂ ٭ #NMIXX #엔믹스 #해원 #HA...</td>\n",
       "      <td>2023-12-11</td>\n",
       "      <td>396,658</td>\n",
       "      <td>199</td>\n",
       "      <td>59,217</td>\n",
       "      <td>SHORTS</td>\n",
       "      <td>SHORTS</td>\n",
       "    </tr>\n",
       "    <tr>\n",
       "      <th>14</th>\n",
       "      <td>oV-w1MBedF0</td>\n",
       "      <td>NMIXX</td>\n",
       "      <td>2,280,000</td>\n",
       "      <td>UCnUAyD4t2LkvW68YrDh7fDg</td>\n",
       "      <td>https://youtu.be/oV-w1MBedF0</td>\n",
       "      <td>sᴀɴᴛᴀ ᴛᴇʟʟ ᴍᴇ👧  ɪғ ʏᴏᴜ'ʀᴇ ʀᴇᴀʟʟʏ ᴛʜᴇʀᴇ ˗ˋ꒰🎅🏻꒱ˊ...</td>\n",
       "      <td>2023-12-10</td>\n",
       "      <td>218,013</td>\n",
       "      <td>162</td>\n",
       "      <td>33,118</td>\n",
       "      <td>SHORTS</td>\n",
       "      <td>SHORTS</td>\n",
       "    </tr>\n",
       "    <tr>\n",
       "      <th>15</th>\n",
       "      <td>ZybZEZSKVR8</td>\n",
       "      <td>NMIXX</td>\n",
       "      <td>2,280,000</td>\n",
       "      <td>UCnUAyD4t2LkvW68YrDh7fDg</td>\n",
       "      <td>https://youtu.be/ZybZEZSKVR8</td>\n",
       "      <td>권민우 변호사, 로스쿨 시절 별명이 뭐였는지 알아? 🐨🐱 Come a so #Soñ...</td>\n",
       "      <td>2023-12-10</td>\n",
       "      <td>293,849</td>\n",
       "      <td>252</td>\n",
       "      <td>27,148</td>\n",
       "      <td>SHORTS</td>\n",
       "      <td>SHORTS</td>\n",
       "    </tr>\n",
       "    <tr>\n",
       "      <th>16</th>\n",
       "      <td>3TgXHq7ZPqk</td>\n",
       "      <td>NMIXX</td>\n",
       "      <td>2,280,000</td>\n",
       "      <td>UCnUAyD4t2LkvW68YrDh7fDg</td>\n",
       "      <td>https://youtu.be/3TgXHq7ZPqk</td>\n",
       "      <td>What a chill #Soñar🐿️ with #RedVelvet #레드벨벳 #W...</td>\n",
       "      <td>2023-12-10</td>\n",
       "      <td>484,438</td>\n",
       "      <td>198</td>\n",
       "      <td>62,770</td>\n",
       "      <td>SHORTS</td>\n",
       "      <td>SHORTS</td>\n",
       "    </tr>\n",
       "  </tbody>\n",
       "</table>\n",
       "</div>"
      ],
      "text/plain": [
       "       video_id          cr subscriber                channel_id   \n",
       "0   5rGgmvZIfus       AESPA  5,080,000  UC9GtSLeksfK4yuJ_g1lgQbg  \\\n",
       "1   9Wmcywak2vQ       AESPA  5,080,000  UC9GtSLeksfK4yuJ_g1lgQbg   \n",
       "2   -MtfHxitugU         IVE  3,170,000  UC-Fnix71vRP64WXeo0ikd0Q   \n",
       "3   MwCnjaAaA7Y  LESSERAFIM  4,270,000  UCs-QBT4qkj_YiQw1ZntDO3g   \n",
       "4   GkdjGvgx4Bk  LESSERAFIM  4,270,000  UCs-QBT4qkj_YiQw1ZntDO3g   \n",
       "5   xu_XNASHbuU       NMIXX  2,280,000  UCnUAyD4t2LkvW68YrDh7fDg   \n",
       "6   ygV508RkQEQ    NEWJEANS  6,240,000  UCMki_UkHb4qSc0qyEcOHHJw   \n",
       "7   JDlXOp5mGws    NEWJEANS  6,240,000  UCMki_UkHb4qSc0qyEcOHHJw   \n",
       "8   72ARETXlWqI       AESPA  5,080,000  UC9GtSLeksfK4yuJ_g1lgQbg   \n",
       "9   fRUmGjnmLxc       AESPA  5,080,000  UC9GtSLeksfK4yuJ_g1lgQbg   \n",
       "10  B-MFiegMJ3k  LESSERAFIM  4,270,000  UCs-QBT4qkj_YiQw1ZntDO3g   \n",
       "11  bAT8Ehz-osQ  LESSERAFIM  4,270,000  UCs-QBT4qkj_YiQw1ZntDO3g   \n",
       "12  _0YlvuwxlC0       NMIXX  2,280,000  UCnUAyD4t2LkvW68YrDh7fDg   \n",
       "13  nYe8ffhpE3Y       NMIXX  2,280,000  UCnUAyD4t2LkvW68YrDh7fDg   \n",
       "14  oV-w1MBedF0       NMIXX  2,280,000  UCnUAyD4t2LkvW68YrDh7fDg   \n",
       "15  ZybZEZSKVR8       NMIXX  2,280,000  UCnUAyD4t2LkvW68YrDh7fDg   \n",
       "16  3TgXHq7ZPqk       NMIXX  2,280,000  UCnUAyD4t2LkvW68YrDh7fDg   \n",
       "\n",
       "                       video_url   \n",
       "0   https://youtu.be/5rGgmvZIfus  \\\n",
       "1   https://youtu.be/9Wmcywak2vQ   \n",
       "2   https://youtu.be/-MtfHxitugU   \n",
       "3   https://youtu.be/MwCnjaAaA7Y   \n",
       "4   https://youtu.be/GkdjGvgx4Bk   \n",
       "5   https://youtu.be/xu_XNASHbuU   \n",
       "6   https://youtu.be/ygV508RkQEQ   \n",
       "7   https://youtu.be/JDlXOp5mGws   \n",
       "8   https://youtu.be/72ARETXlWqI   \n",
       "9   https://youtu.be/fRUmGjnmLxc   \n",
       "10  https://youtu.be/B-MFiegMJ3k   \n",
       "11  https://youtu.be/bAT8Ehz-osQ   \n",
       "12  https://youtu.be/_0YlvuwxlC0   \n",
       "13  https://youtu.be/nYe8ffhpE3Y   \n",
       "14  https://youtu.be/oV-w1MBedF0   \n",
       "15  https://youtu.be/ZybZEZSKVR8   \n",
       "16  https://youtu.be/3TgXHq7ZPqk   \n",
       "\n",
       "                                                title upload_date     view   \n",
       "0   되게 꽉 차게 하루를 보냈던 것 같아요🐶🍀👚 | NINGNING in Atlanta...  2023-12-11  124,646  \\\n",
       "1   첫 개인화보를 오늘 찍었는데요😎🖤 | aespa GISELLE W Korea Pho...  2023-12-10   58,614   \n",
       "2      [IVE ON] 'I'VE MINE' JAPAN PROMOTION BEHIND #1  2023-12-10   96,082   \n",
       "3      [LE▶️PLAY] 다꾸라 초콜릿 VS 아기 밀크초콜릿🍫  |  꾸라은즈의 대결⁉️  2023-12-12   36,095   \n",
       "4     [EPISODE] KIM CHAEWON ‘짐빔 하이볼’ Ads Shoot Sketch  2023-12-11  112,963   \n",
       "5   NMIXX(엔믹스) ‘Soñar (Breaker)’ Recording Behind ...  2023-12-11  198,390   \n",
       "6   📦 I'm waiting for you #NewJeans #뉴진스 #SeasonsG...  2023-12-11   88,648   \n",
       "7   📦 I'm waiting for you #NewJeans #뉴진스 #SeasonsG...  2023-12-11   90,950   \n",
       "8   크리스마스 선물로 #audiz 어떤데?#aespa #에스파 #KARINA #카리나 ...  2023-12-11  384,967   \n",
       "9   #첫눈 에 널 사랑하게 됐고 영원할 거라는 걸 알고 있었어🔮#첫눈챌린지 ❄️ #ae...  2023-12-11  561,034   \n",
       "10  OMG 🌸KKURA-CAT🙀 #LE_SSERAFIM #르세라핌 #SAKURA #사쿠...  2023-12-12   64,839   \n",
       "11  💗채채💗랑 당당하게 걷기💎💫 #LE_SSERAFIM #르세라핌 #KIMCHAEWON...  2023-12-11  249,443   \n",
       "12  ˗ˋˏ #2PM #준호 선배님의 따뜻한 ☕️🚛 𝙬𝙤𝙤𝙤 𝙡𝙞𝙠𝙚 𝙞𝙩 ෆ̈ #NMI...  2023-12-12  100,320   \n",
       "13  woo ✌️+👊=🐌 like it ☆̶ ִׂ ٭ #NMIXX #엔믹스 #해원 #HA...  2023-12-11  396,658   \n",
       "14  sᴀɴᴛᴀ ᴛᴇʟʟ ᴍᴇ👧  ɪғ ʏᴏᴜ'ʀᴇ ʀᴇᴀʟʟʏ ᴛʜᴇʀᴇ ˗ˋ꒰🎅🏻꒱ˊ...  2023-12-10  218,013   \n",
       "15  권민우 변호사, 로스쿨 시절 별명이 뭐였는지 알아? 🐨🐱 Come a so #Soñ...  2023-12-10  293,849   \n",
       "16  What a chill #Soñar🐿️ with #RedVelvet #레드벨벳 #W...  2023-12-10  484,438   \n",
       "\n",
       "   comment    like video_length video_format  \n",
       "0      662  12,150        14:58          VOD  \n",
       "1      549   8,582         5:57          VOD  \n",
       "2      342   7,443        10:07          VOD  \n",
       "3      395   6,196         2:03          VOD  \n",
       "4      529  10,090        12:31          VOD  \n",
       "5      699  19,493        14:47          VOD  \n",
       "6      699  22,324       SHORTS          VOD  \n",
       "7      699  23,132       SHORTS          VOD  \n",
       "8      427  64,633       SHORTS       SHORTS  \n",
       "9      427  59,896       SHORTS       SHORTS  \n",
       "10     197  11,739       SHORTS       SHORTS  \n",
       "11     197  35,647       SHORTS       SHORTS  \n",
       "12      93  19,170          NaN       SHORTS  \n",
       "13     199  59,217       SHORTS       SHORTS  \n",
       "14     162  33,118       SHORTS       SHORTS  \n",
       "15     252  27,148       SHORTS       SHORTS  \n",
       "16     198  62,770       SHORTS       SHORTS  "
      ]
     },
     "execution_count": 161,
     "metadata": {},
     "output_type": "execute_result"
    }
   ],
   "source": [
    "final_vid_metric_df"
   ]
  },
  {
   "cell_type": "markdown",
   "metadata": {},
   "source": [
    "### Close driver"
   ]
  },
  {
   "cell_type": "code",
   "execution_count": 162,
   "metadata": {},
   "outputs": [],
   "source": [
    "crawler.close_driver()"
   ]
  },
  {
   "cell_type": "markdown",
   "metadata": {},
   "source": [
    "### Combine new video data with existing data"
   ]
  },
  {
   "cell_type": "code",
   "execution_count": 163,
   "metadata": {},
   "outputs": [],
   "source": [
    "final_df = pd.concat([vid_metric_df, final_vid_metric_df])\n",
    "final_df = final_df.drop_duplicates(subset=['video_id'], keep='first')\n",
    "final_df = final_df.reset_index(drop=True)"
   ]
  },
  {
   "cell_type": "markdown",
   "metadata": {},
   "source": [
    "### Change data types"
   ]
  },
  {
   "cell_type": "code",
   "execution_count": 164,
   "metadata": {},
   "outputs": [
    {
     "name": "stdout",
     "output_type": "stream",
     "text": [
      "<class 'pandas.core.frame.DataFrame'>\n",
      "RangeIndex: 143 entries, 0 to 142\n",
      "Data columns (total 12 columns):\n",
      " #   Column        Non-Null Count  Dtype \n",
      "---  ------        --------------  ----- \n",
      " 0   video_id      143 non-null    object\n",
      " 1   cr            143 non-null    object\n",
      " 2   subscriber    143 non-null    object\n",
      " 3   channel_id    143 non-null    object\n",
      " 4   video_url     143 non-null    object\n",
      " 5   title         143 non-null    object\n",
      " 6   upload_date   143 non-null    object\n",
      " 7   view          143 non-null    object\n",
      " 8   comment       143 non-null    object\n",
      " 9   like          143 non-null    object\n",
      " 10  video_length  142 non-null    object\n",
      " 11  video_format  17 non-null     object\n",
      "dtypes: object(12)\n",
      "memory usage: 13.5+ KB\n"
     ]
    }
   ],
   "source": [
    "final_df.info()"
   ]
  },
  {
   "cell_type": "code",
   "execution_count": 165,
   "metadata": {},
   "outputs": [],
   "source": [
    "# Change subscriber and view metric to int type\n",
    "to_number = ['subscriber','view','comment','like']\n",
    "for col in to_number:\n",
    "    final_df[col] = final_df[col].apply(lambda x: pd.to_numeric(x.replace(',',\"\")) if ',' in str(x) else pd.to_numeric(x))"
   ]
  },
  {
   "cell_type": "code",
   "execution_count": 166,
   "metadata": {},
   "outputs": [],
   "source": [
    "# Change upload_date to datetime and video_length to seconds\n",
    "final_df['upload_date'] = pd.to_datetime(final_df['upload_date'])"
   ]
  },
  {
   "cell_type": "code",
   "execution_count": 169,
   "metadata": {},
   "outputs": [
    {
     "data": {
      "text/html": [
       "<div>\n",
       "<style scoped>\n",
       "    .dataframe tbody tr th:only-of-type {\n",
       "        vertical-align: middle;\n",
       "    }\n",
       "\n",
       "    .dataframe tbody tr th {\n",
       "        vertical-align: top;\n",
       "    }\n",
       "\n",
       "    .dataframe thead th {\n",
       "        text-align: right;\n",
       "    }\n",
       "</style>\n",
       "<table border=\"1\" class=\"dataframe\">\n",
       "  <thead>\n",
       "    <tr style=\"text-align: right;\">\n",
       "      <th></th>\n",
       "      <th>video_id</th>\n",
       "      <th>cr</th>\n",
       "      <th>subscriber</th>\n",
       "      <th>channel_id</th>\n",
       "      <th>video_url</th>\n",
       "      <th>title</th>\n",
       "      <th>upload_date</th>\n",
       "      <th>view</th>\n",
       "      <th>comment</th>\n",
       "      <th>like</th>\n",
       "      <th>video_length</th>\n",
       "      <th>video_format</th>\n",
       "    </tr>\n",
       "  </thead>\n",
       "  <tbody>\n",
       "    <tr>\n",
       "      <th>123</th>\n",
       "      <td>ERNNoKgjNac</td>\n",
       "      <td>NMIXX</td>\n",
       "      <td>2270000</td>\n",
       "      <td>UCnUAyD4t2LkvW68YrDh7fDg</td>\n",
       "      <td>https://youtu.be/ERNNoKgjNac</td>\n",
       "      <td>Come a so-soñar🌪️ #NMIXX #엔믹스 #Fe3O4_BREAK #So...</td>\n",
       "      <td>2023-12-03</td>\n",
       "      <td>1236532</td>\n",
       "      <td>1200</td>\n",
       "      <td>101031</td>\n",
       "      <td>60</td>\n",
       "      <td>NaN</td>\n",
       "    </tr>\n",
       "    <tr>\n",
       "      <th>124</th>\n",
       "      <td>eGkWGrRYw10</td>\n",
       "      <td>NMIXX</td>\n",
       "      <td>2270000</td>\n",
       "      <td>UCnUAyD4t2LkvW68YrDh7fDg</td>\n",
       "      <td>https://youtu.be/eGkWGrRYw10</td>\n",
       "      <td>배이&amp;지우의 나는 환승 솔로 하트 연애 시그널💗#NMIXXIN무한도전 #Shorts</td>\n",
       "      <td>2023-09-25</td>\n",
       "      <td>53990</td>\n",
       "      <td>43</td>\n",
       "      <td>7287</td>\n",
       "      <td>60</td>\n",
       "      <td>NaN</td>\n",
       "    </tr>\n",
       "    <tr>\n",
       "      <th>125</th>\n",
       "      <td>FcIu-ECxnsk</td>\n",
       "      <td>NMIXX</td>\n",
       "      <td>2270000</td>\n",
       "      <td>UCnUAyD4t2LkvW68YrDh7fDg</td>\n",
       "      <td>https://youtu.be/FcIu-ECxnsk</td>\n",
       "      <td>Oh My loooveee, My daaaarrling✨#NMIXXIN무한도전 #S...</td>\n",
       "      <td>2023-09-25</td>\n",
       "      <td>37999</td>\n",
       "      <td>37</td>\n",
       "      <td>5998</td>\n",
       "      <td>2365</td>\n",
       "      <td>NaN</td>\n",
       "    </tr>\n",
       "    <tr>\n",
       "      <th>126</th>\n",
       "      <td>5rGgmvZIfus</td>\n",
       "      <td>AESPA</td>\n",
       "      <td>5080000</td>\n",
       "      <td>UC9GtSLeksfK4yuJ_g1lgQbg</td>\n",
       "      <td>https://youtu.be/5rGgmvZIfus</td>\n",
       "      <td>되게 꽉 차게 하루를 보냈던 것 같아요🐶🍀👚 | NINGNING in Atlanta...</td>\n",
       "      <td>2023-12-11</td>\n",
       "      <td>124646</td>\n",
       "      <td>662</td>\n",
       "      <td>12150</td>\n",
       "      <td>14:58</td>\n",
       "      <td>VOD</td>\n",
       "    </tr>\n",
       "    <tr>\n",
       "      <th>127</th>\n",
       "      <td>9Wmcywak2vQ</td>\n",
       "      <td>AESPA</td>\n",
       "      <td>5080000</td>\n",
       "      <td>UC9GtSLeksfK4yuJ_g1lgQbg</td>\n",
       "      <td>https://youtu.be/9Wmcywak2vQ</td>\n",
       "      <td>첫 개인화보를 오늘 찍었는데요😎🖤 | aespa GISELLE W Korea Pho...</td>\n",
       "      <td>2023-12-10</td>\n",
       "      <td>58614</td>\n",
       "      <td>549</td>\n",
       "      <td>8582</td>\n",
       "      <td>5:57</td>\n",
       "      <td>VOD</td>\n",
       "    </tr>\n",
       "    <tr>\n",
       "      <th>128</th>\n",
       "      <td>-MtfHxitugU</td>\n",
       "      <td>IVE</td>\n",
       "      <td>3170000</td>\n",
       "      <td>UC-Fnix71vRP64WXeo0ikd0Q</td>\n",
       "      <td>https://youtu.be/-MtfHxitugU</td>\n",
       "      <td>[IVE ON] 'I'VE MINE' JAPAN PROMOTION BEHIND #1</td>\n",
       "      <td>2023-12-10</td>\n",
       "      <td>96082</td>\n",
       "      <td>342</td>\n",
       "      <td>7443</td>\n",
       "      <td>10:07</td>\n",
       "      <td>VOD</td>\n",
       "    </tr>\n",
       "    <tr>\n",
       "      <th>129</th>\n",
       "      <td>MwCnjaAaA7Y</td>\n",
       "      <td>LESSERAFIM</td>\n",
       "      <td>4270000</td>\n",
       "      <td>UCs-QBT4qkj_YiQw1ZntDO3g</td>\n",
       "      <td>https://youtu.be/MwCnjaAaA7Y</td>\n",
       "      <td>[LE▶️PLAY] 다꾸라 초콜릿 VS 아기 밀크초콜릿🍫  |  꾸라은즈의 대결⁉️</td>\n",
       "      <td>2023-12-12</td>\n",
       "      <td>36095</td>\n",
       "      <td>395</td>\n",
       "      <td>6196</td>\n",
       "      <td>2:03</td>\n",
       "      <td>VOD</td>\n",
       "    </tr>\n",
       "    <tr>\n",
       "      <th>130</th>\n",
       "      <td>GkdjGvgx4Bk</td>\n",
       "      <td>LESSERAFIM</td>\n",
       "      <td>4270000</td>\n",
       "      <td>UCs-QBT4qkj_YiQw1ZntDO3g</td>\n",
       "      <td>https://youtu.be/GkdjGvgx4Bk</td>\n",
       "      <td>[EPISODE] KIM CHAEWON ‘짐빔 하이볼’ Ads Shoot Sketch</td>\n",
       "      <td>2023-12-11</td>\n",
       "      <td>112963</td>\n",
       "      <td>529</td>\n",
       "      <td>10090</td>\n",
       "      <td>12:31</td>\n",
       "      <td>VOD</td>\n",
       "    </tr>\n",
       "    <tr>\n",
       "      <th>131</th>\n",
       "      <td>xu_XNASHbuU</td>\n",
       "      <td>NMIXX</td>\n",
       "      <td>2280000</td>\n",
       "      <td>UCnUAyD4t2LkvW68YrDh7fDg</td>\n",
       "      <td>https://youtu.be/xu_XNASHbuU</td>\n",
       "      <td>NMIXX(엔믹스) ‘Soñar (Breaker)’ Recording Behind ...</td>\n",
       "      <td>2023-12-11</td>\n",
       "      <td>198390</td>\n",
       "      <td>699</td>\n",
       "      <td>19493</td>\n",
       "      <td>14:47</td>\n",
       "      <td>VOD</td>\n",
       "    </tr>\n",
       "    <tr>\n",
       "      <th>132</th>\n",
       "      <td>ygV508RkQEQ</td>\n",
       "      <td>NEWJEANS</td>\n",
       "      <td>6240000</td>\n",
       "      <td>UCMki_UkHb4qSc0qyEcOHHJw</td>\n",
       "      <td>https://youtu.be/ygV508RkQEQ</td>\n",
       "      <td>📦 I'm waiting for you #NewJeans #뉴진스 #SeasonsG...</td>\n",
       "      <td>2023-12-11</td>\n",
       "      <td>88648</td>\n",
       "      <td>699</td>\n",
       "      <td>22324</td>\n",
       "      <td>SHORTS</td>\n",
       "      <td>VOD</td>\n",
       "    </tr>\n",
       "    <tr>\n",
       "      <th>133</th>\n",
       "      <td>JDlXOp5mGws</td>\n",
       "      <td>NEWJEANS</td>\n",
       "      <td>6240000</td>\n",
       "      <td>UCMki_UkHb4qSc0qyEcOHHJw</td>\n",
       "      <td>https://youtu.be/JDlXOp5mGws</td>\n",
       "      <td>📦 I'm waiting for you #NewJeans #뉴진스 #SeasonsG...</td>\n",
       "      <td>2023-12-11</td>\n",
       "      <td>90950</td>\n",
       "      <td>699</td>\n",
       "      <td>23132</td>\n",
       "      <td>SHORTS</td>\n",
       "      <td>VOD</td>\n",
       "    </tr>\n",
       "    <tr>\n",
       "      <th>134</th>\n",
       "      <td>72ARETXlWqI</td>\n",
       "      <td>AESPA</td>\n",
       "      <td>5080000</td>\n",
       "      <td>UC9GtSLeksfK4yuJ_g1lgQbg</td>\n",
       "      <td>https://youtu.be/72ARETXlWqI</td>\n",
       "      <td>크리스마스 선물로 #audiz 어떤데?#aespa #에스파 #KARINA #카리나 ...</td>\n",
       "      <td>2023-12-11</td>\n",
       "      <td>384967</td>\n",
       "      <td>427</td>\n",
       "      <td>64633</td>\n",
       "      <td>SHORTS</td>\n",
       "      <td>SHORTS</td>\n",
       "    </tr>\n",
       "    <tr>\n",
       "      <th>135</th>\n",
       "      <td>fRUmGjnmLxc</td>\n",
       "      <td>AESPA</td>\n",
       "      <td>5080000</td>\n",
       "      <td>UC9GtSLeksfK4yuJ_g1lgQbg</td>\n",
       "      <td>https://youtu.be/fRUmGjnmLxc</td>\n",
       "      <td>#첫눈 에 널 사랑하게 됐고 영원할 거라는 걸 알고 있었어🔮#첫눈챌린지 ❄️ #ae...</td>\n",
       "      <td>2023-12-11</td>\n",
       "      <td>561034</td>\n",
       "      <td>427</td>\n",
       "      <td>59896</td>\n",
       "      <td>SHORTS</td>\n",
       "      <td>SHORTS</td>\n",
       "    </tr>\n",
       "    <tr>\n",
       "      <th>136</th>\n",
       "      <td>B-MFiegMJ3k</td>\n",
       "      <td>LESSERAFIM</td>\n",
       "      <td>4270000</td>\n",
       "      <td>UCs-QBT4qkj_YiQw1ZntDO3g</td>\n",
       "      <td>https://youtu.be/B-MFiegMJ3k</td>\n",
       "      <td>OMG 🌸KKURA-CAT🙀 #LE_SSERAFIM #르세라핌 #SAKURA #사쿠...</td>\n",
       "      <td>2023-12-12</td>\n",
       "      <td>64839</td>\n",
       "      <td>197</td>\n",
       "      <td>11739</td>\n",
       "      <td>SHORTS</td>\n",
       "      <td>SHORTS</td>\n",
       "    </tr>\n",
       "    <tr>\n",
       "      <th>137</th>\n",
       "      <td>bAT8Ehz-osQ</td>\n",
       "      <td>LESSERAFIM</td>\n",
       "      <td>4270000</td>\n",
       "      <td>UCs-QBT4qkj_YiQw1ZntDO3g</td>\n",
       "      <td>https://youtu.be/bAT8Ehz-osQ</td>\n",
       "      <td>💗채채💗랑 당당하게 걷기💎💫 #LE_SSERAFIM #르세라핌 #KIMCHAEWON...</td>\n",
       "      <td>2023-12-11</td>\n",
       "      <td>249443</td>\n",
       "      <td>197</td>\n",
       "      <td>35647</td>\n",
       "      <td>SHORTS</td>\n",
       "      <td>SHORTS</td>\n",
       "    </tr>\n",
       "    <tr>\n",
       "      <th>138</th>\n",
       "      <td>_0YlvuwxlC0</td>\n",
       "      <td>NMIXX</td>\n",
       "      <td>2280000</td>\n",
       "      <td>UCnUAyD4t2LkvW68YrDh7fDg</td>\n",
       "      <td>https://youtu.be/_0YlvuwxlC0</td>\n",
       "      <td>˗ˋˏ #2PM #준호 선배님의 따뜻한 ☕️🚛 𝙬𝙤𝙤𝙤 𝙡𝙞𝙠𝙚 𝙞𝙩 ෆ̈ #NMI...</td>\n",
       "      <td>2023-12-12</td>\n",
       "      <td>100320</td>\n",
       "      <td>93</td>\n",
       "      <td>19170</td>\n",
       "      <td>NaN</td>\n",
       "      <td>SHORTS</td>\n",
       "    </tr>\n",
       "    <tr>\n",
       "      <th>139</th>\n",
       "      <td>nYe8ffhpE3Y</td>\n",
       "      <td>NMIXX</td>\n",
       "      <td>2280000</td>\n",
       "      <td>UCnUAyD4t2LkvW68YrDh7fDg</td>\n",
       "      <td>https://youtu.be/nYe8ffhpE3Y</td>\n",
       "      <td>woo ✌️+👊=🐌 like it ☆̶ ִׂ ٭ #NMIXX #엔믹스 #해원 #HA...</td>\n",
       "      <td>2023-12-11</td>\n",
       "      <td>396658</td>\n",
       "      <td>199</td>\n",
       "      <td>59217</td>\n",
       "      <td>SHORTS</td>\n",
       "      <td>SHORTS</td>\n",
       "    </tr>\n",
       "    <tr>\n",
       "      <th>140</th>\n",
       "      <td>oV-w1MBedF0</td>\n",
       "      <td>NMIXX</td>\n",
       "      <td>2280000</td>\n",
       "      <td>UCnUAyD4t2LkvW68YrDh7fDg</td>\n",
       "      <td>https://youtu.be/oV-w1MBedF0</td>\n",
       "      <td>sᴀɴᴛᴀ ᴛᴇʟʟ ᴍᴇ👧  ɪғ ʏᴏᴜ'ʀᴇ ʀᴇᴀʟʟʏ ᴛʜᴇʀᴇ ˗ˋ꒰🎅🏻꒱ˊ...</td>\n",
       "      <td>2023-12-10</td>\n",
       "      <td>218013</td>\n",
       "      <td>162</td>\n",
       "      <td>33118</td>\n",
       "      <td>SHORTS</td>\n",
       "      <td>SHORTS</td>\n",
       "    </tr>\n",
       "    <tr>\n",
       "      <th>141</th>\n",
       "      <td>ZybZEZSKVR8</td>\n",
       "      <td>NMIXX</td>\n",
       "      <td>2280000</td>\n",
       "      <td>UCnUAyD4t2LkvW68YrDh7fDg</td>\n",
       "      <td>https://youtu.be/ZybZEZSKVR8</td>\n",
       "      <td>권민우 변호사, 로스쿨 시절 별명이 뭐였는지 알아? 🐨🐱 Come a so #Soñ...</td>\n",
       "      <td>2023-12-10</td>\n",
       "      <td>293849</td>\n",
       "      <td>252</td>\n",
       "      <td>27148</td>\n",
       "      <td>SHORTS</td>\n",
       "      <td>SHORTS</td>\n",
       "    </tr>\n",
       "    <tr>\n",
       "      <th>142</th>\n",
       "      <td>3TgXHq7ZPqk</td>\n",
       "      <td>NMIXX</td>\n",
       "      <td>2280000</td>\n",
       "      <td>UCnUAyD4t2LkvW68YrDh7fDg</td>\n",
       "      <td>https://youtu.be/3TgXHq7ZPqk</td>\n",
       "      <td>What a chill #Soñar🐿️ with #RedVelvet #레드벨벳 #W...</td>\n",
       "      <td>2023-12-10</td>\n",
       "      <td>484438</td>\n",
       "      <td>198</td>\n",
       "      <td>62770</td>\n",
       "      <td>SHORTS</td>\n",
       "      <td>SHORTS</td>\n",
       "    </tr>\n",
       "  </tbody>\n",
       "</table>\n",
       "</div>"
      ],
      "text/plain": [
       "        video_id          cr  subscriber                channel_id   \n",
       "123  ERNNoKgjNac       NMIXX     2270000  UCnUAyD4t2LkvW68YrDh7fDg  \\\n",
       "124  eGkWGrRYw10       NMIXX     2270000  UCnUAyD4t2LkvW68YrDh7fDg   \n",
       "125  FcIu-ECxnsk       NMIXX     2270000  UCnUAyD4t2LkvW68YrDh7fDg   \n",
       "126  5rGgmvZIfus       AESPA     5080000  UC9GtSLeksfK4yuJ_g1lgQbg   \n",
       "127  9Wmcywak2vQ       AESPA     5080000  UC9GtSLeksfK4yuJ_g1lgQbg   \n",
       "128  -MtfHxitugU         IVE     3170000  UC-Fnix71vRP64WXeo0ikd0Q   \n",
       "129  MwCnjaAaA7Y  LESSERAFIM     4270000  UCs-QBT4qkj_YiQw1ZntDO3g   \n",
       "130  GkdjGvgx4Bk  LESSERAFIM     4270000  UCs-QBT4qkj_YiQw1ZntDO3g   \n",
       "131  xu_XNASHbuU       NMIXX     2280000  UCnUAyD4t2LkvW68YrDh7fDg   \n",
       "132  ygV508RkQEQ    NEWJEANS     6240000  UCMki_UkHb4qSc0qyEcOHHJw   \n",
       "133  JDlXOp5mGws    NEWJEANS     6240000  UCMki_UkHb4qSc0qyEcOHHJw   \n",
       "134  72ARETXlWqI       AESPA     5080000  UC9GtSLeksfK4yuJ_g1lgQbg   \n",
       "135  fRUmGjnmLxc       AESPA     5080000  UC9GtSLeksfK4yuJ_g1lgQbg   \n",
       "136  B-MFiegMJ3k  LESSERAFIM     4270000  UCs-QBT4qkj_YiQw1ZntDO3g   \n",
       "137  bAT8Ehz-osQ  LESSERAFIM     4270000  UCs-QBT4qkj_YiQw1ZntDO3g   \n",
       "138  _0YlvuwxlC0       NMIXX     2280000  UCnUAyD4t2LkvW68YrDh7fDg   \n",
       "139  nYe8ffhpE3Y       NMIXX     2280000  UCnUAyD4t2LkvW68YrDh7fDg   \n",
       "140  oV-w1MBedF0       NMIXX     2280000  UCnUAyD4t2LkvW68YrDh7fDg   \n",
       "141  ZybZEZSKVR8       NMIXX     2280000  UCnUAyD4t2LkvW68YrDh7fDg   \n",
       "142  3TgXHq7ZPqk       NMIXX     2280000  UCnUAyD4t2LkvW68YrDh7fDg   \n",
       "\n",
       "                        video_url   \n",
       "123  https://youtu.be/ERNNoKgjNac  \\\n",
       "124  https://youtu.be/eGkWGrRYw10   \n",
       "125  https://youtu.be/FcIu-ECxnsk   \n",
       "126  https://youtu.be/5rGgmvZIfus   \n",
       "127  https://youtu.be/9Wmcywak2vQ   \n",
       "128  https://youtu.be/-MtfHxitugU   \n",
       "129  https://youtu.be/MwCnjaAaA7Y   \n",
       "130  https://youtu.be/GkdjGvgx4Bk   \n",
       "131  https://youtu.be/xu_XNASHbuU   \n",
       "132  https://youtu.be/ygV508RkQEQ   \n",
       "133  https://youtu.be/JDlXOp5mGws   \n",
       "134  https://youtu.be/72ARETXlWqI   \n",
       "135  https://youtu.be/fRUmGjnmLxc   \n",
       "136  https://youtu.be/B-MFiegMJ3k   \n",
       "137  https://youtu.be/bAT8Ehz-osQ   \n",
       "138  https://youtu.be/_0YlvuwxlC0   \n",
       "139  https://youtu.be/nYe8ffhpE3Y   \n",
       "140  https://youtu.be/oV-w1MBedF0   \n",
       "141  https://youtu.be/ZybZEZSKVR8   \n",
       "142  https://youtu.be/3TgXHq7ZPqk   \n",
       "\n",
       "                                                 title upload_date     view   \n",
       "123  Come a so-soñar🌪️ #NMIXX #엔믹스 #Fe3O4_BREAK #So...  2023-12-03  1236532  \\\n",
       "124     배이&지우의 나는 환승 솔로 하트 연애 시그널💗#NMIXXIN무한도전 #Shorts  2023-09-25    53990   \n",
       "125  Oh My loooveee, My daaaarrling✨#NMIXXIN무한도전 #S...  2023-09-25    37999   \n",
       "126  되게 꽉 차게 하루를 보냈던 것 같아요🐶🍀👚 | NINGNING in Atlanta...  2023-12-11   124646   \n",
       "127  첫 개인화보를 오늘 찍었는데요😎🖤 | aespa GISELLE W Korea Pho...  2023-12-10    58614   \n",
       "128     [IVE ON] 'I'VE MINE' JAPAN PROMOTION BEHIND #1  2023-12-10    96082   \n",
       "129     [LE▶️PLAY] 다꾸라 초콜릿 VS 아기 밀크초콜릿🍫  |  꾸라은즈의 대결⁉️  2023-12-12    36095   \n",
       "130    [EPISODE] KIM CHAEWON ‘짐빔 하이볼’ Ads Shoot Sketch  2023-12-11   112963   \n",
       "131  NMIXX(엔믹스) ‘Soñar (Breaker)’ Recording Behind ...  2023-12-11   198390   \n",
       "132  📦 I'm waiting for you #NewJeans #뉴진스 #SeasonsG...  2023-12-11    88648   \n",
       "133  📦 I'm waiting for you #NewJeans #뉴진스 #SeasonsG...  2023-12-11    90950   \n",
       "134  크리스마스 선물로 #audiz 어떤데?#aespa #에스파 #KARINA #카리나 ...  2023-12-11   384967   \n",
       "135  #첫눈 에 널 사랑하게 됐고 영원할 거라는 걸 알고 있었어🔮#첫눈챌린지 ❄️ #ae...  2023-12-11   561034   \n",
       "136  OMG 🌸KKURA-CAT🙀 #LE_SSERAFIM #르세라핌 #SAKURA #사쿠...  2023-12-12    64839   \n",
       "137  💗채채💗랑 당당하게 걷기💎💫 #LE_SSERAFIM #르세라핌 #KIMCHAEWON...  2023-12-11   249443   \n",
       "138  ˗ˋˏ #2PM #준호 선배님의 따뜻한 ☕️🚛 𝙬𝙤𝙤𝙤 𝙡𝙞𝙠𝙚 𝙞𝙩 ෆ̈ #NMI...  2023-12-12   100320   \n",
       "139  woo ✌️+👊=🐌 like it ☆̶ ִׂ ٭ #NMIXX #엔믹스 #해원 #HA...  2023-12-11   396658   \n",
       "140  sᴀɴᴛᴀ ᴛᴇʟʟ ᴍᴇ👧  ɪғ ʏᴏᴜ'ʀᴇ ʀᴇᴀʟʟʏ ᴛʜᴇʀᴇ ˗ˋ꒰🎅🏻꒱ˊ...  2023-12-10   218013   \n",
       "141  권민우 변호사, 로스쿨 시절 별명이 뭐였는지 알아? 🐨🐱 Come a so #Soñ...  2023-12-10   293849   \n",
       "142  What a chill #Soñar🐿️ with #RedVelvet #레드벨벳 #W...  2023-12-10   484438   \n",
       "\n",
       "     comment    like video_length video_format  \n",
       "123     1200  101031           60          NaN  \n",
       "124       43    7287           60          NaN  \n",
       "125       37    5998         2365          NaN  \n",
       "126      662   12150        14:58          VOD  \n",
       "127      549    8582         5:57          VOD  \n",
       "128      342    7443        10:07          VOD  \n",
       "129      395    6196         2:03          VOD  \n",
       "130      529   10090        12:31          VOD  \n",
       "131      699   19493        14:47          VOD  \n",
       "132      699   22324       SHORTS          VOD  \n",
       "133      699   23132       SHORTS          VOD  \n",
       "134      427   64633       SHORTS       SHORTS  \n",
       "135      427   59896       SHORTS       SHORTS  \n",
       "136      197   11739       SHORTS       SHORTS  \n",
       "137      197   35647       SHORTS       SHORTS  \n",
       "138       93   19170          NaN       SHORTS  \n",
       "139      199   59217       SHORTS       SHORTS  \n",
       "140      162   33118       SHORTS       SHORTS  \n",
       "141      252   27148       SHORTS       SHORTS  \n",
       "142      198   62770       SHORTS       SHORTS  "
      ]
     },
     "execution_count": 169,
     "metadata": {},
     "output_type": "execute_result"
    }
   ],
   "source": [
    "final_df.tail(20)"
   ]
  },
  {
   "cell_type": "code",
   "execution_count": 171,
   "metadata": {},
   "outputs": [],
   "source": [
    "# Function to convert video_length to seconds\n",
    "def convert_to_seconds(length):\n",
    "    \n",
    "    if isinstance(length, (int,float)):\n",
    "        return length # If already integer, then just return length\n",
    "    if length == 'SHORTS':\n",
    "        return 60  # Assuming SHORTS videos is approx 60 seconds\n",
    "    else:\n",
    "        parts = length.split(':')\n",
    "        if len(parts) == 3:\n",
    "            hours, minutes, seconds = map(int, parts)\n",
    "        elif len(parts) == 2:\n",
    "            hours, minutes, seconds = 0, int(parts[0]), int(parts[1])\n",
    "        elif len(parts) == 1:\n",
    "            hours, minutes, seconds = 0, 0, int(parts[0])\n",
    "        else:\n",
    "            return 0  # Invalid format\n",
    "        return hours * 3600 + minutes * 60 + seconds\n",
    "\n",
    "# Apply the conversion function to the DataFrame\n",
    "final_df['video_length'] = final_df['video_length'].apply(convert_to_seconds)"
   ]
  },
  {
   "cell_type": "markdown",
   "metadata": {},
   "source": [
    "### Update new video metrics to video_metric Sheet"
   ]
  },
  {
   "cell_type": "code",
   "execution_count": 172,
   "metadata": {},
   "outputs": [],
   "source": [
    "# vid_list sheet\n",
    "spreadsheet_url = \"https://docs.google.com/spreadsheets/d/1XPgKbblXTnwPJ5FNW4adxnGmrhMJllveFe4EfqWOc48/edit#gid=2084333239\"\n",
    "sid = spreadsheet_url.split(\"/d/\")[1].split(\"/edit\")[0]\n",
    "sh = gc.open_by_key(sid)\n",
    "\n",
    "# Update the sheet with new dataframe\n",
    "wks_ad = sh.worksheet_by_title('video_metric')\n",
    "wks_ad.clear('A1','AZ')\n",
    "wks_ad.set_dataframe(final_df, 'A1', index=False)"
   ]
  }
 ],
 "metadata": {
  "kernelspec": {
   "display_name": "pjt_2023",
   "language": "python",
   "name": "python3"
  },
  "language_info": {
   "codemirror_mode": {
    "name": "ipython",
    "version": 3
   },
   "file_extension": ".py",
   "mimetype": "text/x-python",
   "name": "python",
   "nbconvert_exporter": "python",
   "pygments_lexer": "ipython3",
   "version": "3.10.9"
  }
 },
 "nbformat": 4,
 "nbformat_minor": 2
}
